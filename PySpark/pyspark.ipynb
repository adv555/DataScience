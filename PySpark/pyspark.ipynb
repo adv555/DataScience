{
  "nbformat": 4,
  "nbformat_minor": 0,
  "metadata": {
    "colab": {
      "provenance": [],
      "authorship_tag": "ABX9TyPd9Q36yJJdzv53XSAEuq3y",
      "include_colab_link": true
    },
    "kernelspec": {
      "name": "python3",
      "display_name": "Python 3"
    },
    "language_info": {
      "name": "python"
    }
  },
  "cells": [
    {
      "cell_type": "markdown",
      "metadata": {
        "id": "view-in-github",
        "colab_type": "text"
      },
      "source": [
        "<a href=\"https://colab.research.google.com/github/adv555/DataScience/blob/main/PySpark/pyspark.ipynb\" target=\"_parent\"><img src=\"https://colab.research.google.com/assets/colab-badge.svg\" alt=\"Open In Colab\"/></a>"
      ]
    },
    {
      "cell_type": "code",
      "execution_count": 1,
      "metadata": {
        "colab": {
          "base_uri": "https://localhost:8080/"
        },
        "id": "DVZxFnzd5TcH",
        "outputId": "3319a584-cc21-493e-b027-b9c3eb7f1ff7"
      },
      "outputs": [
        {
          "output_type": "stream",
          "name": "stdout",
          "text": [
            "Looking in indexes: https://pypi.org/simple, https://us-python.pkg.dev/colab-wheels/public/simple/\n",
            "Collecting pyspark\n",
            "  Downloading pyspark-3.3.1.tar.gz (281.4 MB)\n",
            "\u001b[2K     \u001b[90m━━━━━━━━━━━━━━━━━━━━━━━━━━━━━━━━━━━━━━━\u001b[0m \u001b[32m281.4/281.4 MB\u001b[0m \u001b[31m5.1 MB/s\u001b[0m eta \u001b[36m0:00:00\u001b[0m\n",
            "\u001b[?25h  Preparing metadata (setup.py) ... \u001b[?25l\u001b[?25hdone\n",
            "Collecting faker\n",
            "  Downloading Faker-16.6.0-py3-none-any.whl (1.7 MB)\n",
            "\u001b[2K     \u001b[90m━━━━━━━━━━━━━━━━━━━━━━━━━━━━━━━━━━━━━━━━\u001b[0m \u001b[32m1.7/1.7 MB\u001b[0m \u001b[31m78.8 MB/s\u001b[0m eta \u001b[36m0:00:00\u001b[0m\n",
            "\u001b[?25hCollecting py4j==0.10.9.5\n",
            "  Downloading py4j-0.10.9.5-py2.py3-none-any.whl (199 kB)\n",
            "\u001b[2K     \u001b[90m━━━━━━━━━━━━━━━━━━━━━━━━━━━━━━━━━━━━━━\u001b[0m \u001b[32m199.7/199.7 KB\u001b[0m \u001b[31m23.2 MB/s\u001b[0m eta \u001b[36m0:00:00\u001b[0m\n",
            "\u001b[?25hRequirement already satisfied: python-dateutil>=2.4 in /usr/local/lib/python3.8/dist-packages (from faker) (2.8.2)\n",
            "Requirement already satisfied: six>=1.5 in /usr/local/lib/python3.8/dist-packages (from python-dateutil>=2.4->faker) (1.15.0)\n",
            "Building wheels for collected packages: pyspark\n",
            "  Building wheel for pyspark (setup.py) ... \u001b[?25l\u001b[?25hdone\n",
            "  Created wheel for pyspark: filename=pyspark-3.3.1-py2.py3-none-any.whl size=281845512 sha256=29a9a87b0a49e3b6d78c02d3076ab636a30b26baf20c46f7137d195232011202\n",
            "  Stored in directory: /root/.cache/pip/wheels/43/dc/11/ec201cd671da62fa9c5cc77078235e40722170ceba231d7598\n",
            "Successfully built pyspark\n",
            "Installing collected packages: py4j, pyspark, faker\n",
            "Successfully installed faker-16.6.0 py4j-0.10.9.5 pyspark-3.3.1\n"
          ]
        }
      ],
      "source": [
        "!pip install pyspark faker"
      ]
    },
    {
      "cell_type": "code",
      "source": [
        "import random\n",
        "import pyspark\n",
        "\n",
        "sc = pyspark.SparkContext()\n",
        "\n",
        "def inside(p):\n",
        "    x, y = random.random(), random.random()\n",
        "    return x * x + y * y < 1\n",
        "\n",
        "NUM_SAMPLES = 10 ** 7\n",
        "count = sc.parallelize(range(NUM_SAMPLES)).filter(inside).count()\n",
        "approx_pi = (4.0 * count / NUM_SAMPLES)\n",
        "print(f\"Pi is roughly {approx_pi}\")"
      ],
      "metadata": {
        "colab": {
          "base_uri": "https://localhost:8080/"
        },
        "id": "I4nYdntl5971",
        "outputId": "84d6099c-0a44-4351-caa1-333a12048ddd"
      },
      "execution_count": null,
      "outputs": [
        {
          "output_type": "stream",
          "name": "stdout",
          "text": [
            "Pi is roughly 3.1429216\n"
          ]
        }
      ]
    },
    {
      "cell_type": "code",
      "source": [
        "import pandas as pd\n",
        "from random import randint\n",
        "from pyspark.sql import Row, SparkSession\n",
        "\n",
        "from datetime import date, datetime\n",
        "from faker import Faker\n",
        "\n",
        "fake = Faker()\n",
        "spark_session = SparkSession.builder.getOrCreate()\n",
        "\n",
        "users_df = spark_session.createDataFrame([\n",
        "    Row(\n",
        "        first_name = fake.first_name(),\n",
        "        last_name = fake.last_name(),\n",
        "        date_of_birth = fake.date_of_birth(),\n",
        "        address = fake.address(),\n",
        "        salary = randint(2000, 15000),\n",
        "        age = randint(25, 60),\n",
        "        city = fake.city()\n",
        "    )\n",
        "    for _ in range(100)\n",
        "])\n"
      ],
      "metadata": {
        "id": "zPOqqN4-YXRn"
      },
      "execution_count": null,
      "outputs": []
    },
    {
      "cell_type": "code",
      "source": [
        "users_df.show()"
      ],
      "metadata": {
        "colab": {
          "base_uri": "https://localhost:8080/"
        },
        "id": "9kCmtv-ibeO4",
        "outputId": "81fcb2c4-590d-4036-b022-1ddcd648d6f7"
      },
      "execution_count": null,
      "outputs": [
        {
          "output_type": "stream",
          "name": "stdout",
          "text": [
            "+----------+---------+-------------+--------------------+------+---+-----------------+\n",
            "|first_name|last_name|date_of_birth|             address|salary|age|             city|\n",
            "+----------+---------+-------------+--------------------+------+---+-----------------+\n",
            "|   Jeffrey|   Hansen|   2021-01-17|PSC 1490, Box 538...| 11924| 38|South Tamaramouth|\n",
            "|      Lisa|   Archer|   1918-10-16|68533 Martha Trac...|  2096| 55|West Samanthaland|\n",
            "|     Jacob|    Young|   1940-04-07|08120 Scott Motor...|  8920| 41|         Mayhaven|\n",
            "|   Christy| Williams|   1993-03-27|545 Elizabeth Dri...|  4107| 29| East Jessicatown|\n",
            "|   Bradley|    Smith|   2007-06-08|3938 Smith Ranch ...| 14922| 51| East Jeffreyview|\n",
            "|    Thomas|  Herrera|   1927-02-25|0371 William Moto...|  5927| 48|  East Robertfort|\n",
            "|     Tyler|    Burke|   1988-01-31|53570 Kaufman Sta...|  9501| 44| Lake Joshuaville|\n",
            "|      Jade|    Duran|   2020-09-30|33295 Weiss Branc...|  4764| 34|      Lake Hailey|\n",
            "|     Sarah|    Yates|   1951-10-24|444 Ryan Crest\\nP...|  3845| 54|        Jesseview|\n",
            "|  Kimberly|   Harvey|   1985-05-31|7416 Gomez Strave...|  5309| 57|     Emilychester|\n",
            "|     Tyler|    Adams|   2018-09-03|603 Sara Pass Apt...| 10554| 45|         Susanton|\n",
            "|    Robert|    Welch|   1987-09-03|60832 Brooks Loaf...| 11055| 56|       Wilsonbury|\n",
            "|   Jessica|   Porter|   1926-03-29|257 Wanda Knolls\\...|  8840| 46|       Mooneystad|\n",
            "|   Cynthia|    Mckee|   1963-09-24|90547 Ann Mills\\n...|  6835| 45|       Howellstad|\n",
            "|     Terri|Mccormick|   1925-10-30|PSC 7187, Box 049...|  3904| 54|      East Steven|\n",
            "|  Patricia|     Ryan|   1919-02-03|7601 Nichols Ford...|  4548| 58|         Wardfort|\n",
            "|     Tracy|      Liu|   1951-06-26|62913 Moore Land\\...| 10003| 48|       Lake Duane|\n",
            "|     Betty| Friedman|   1944-01-13|30393 Richard Bri...| 11645| 31|        Arroyoton|\n",
            "| Christian|  Edwards|   1927-04-30|33370 Jeff Way\\nD...| 12340| 43|      Johnsonside|\n",
            "|   Heather|     Pena|   2010-05-30|49934 Cobb Inlet\\...| 14262| 39|     East Michael|\n",
            "+----------+---------+-------------+--------------------+------+---+-----------------+\n",
            "only showing top 20 rows\n",
            "\n"
          ]
        }
      ]
    },
    {
      "cell_type": "code",
      "source": [
        "# user_df[['first_name', 'last_name']].show()\n",
        "# user_df.select(['first_name', 'last_name']).show()\n",
        "users_df.select(['*']).filter('age >= 40').show()"
      ],
      "metadata": {
        "colab": {
          "base_uri": "https://localhost:8080/"
        },
        "id": "KLIHlHHob--_",
        "outputId": "c0792325-1933-4470-cb42-91653a3c54b5"
      },
      "execution_count": null,
      "outputs": [
        {
          "output_type": "stream",
          "name": "stdout",
          "text": [
            "+----------+---------+-------------+--------------------+------+---+-----------------+\n",
            "|first_name|last_name|date_of_birth|             address|salary|age|             city|\n",
            "+----------+---------+-------------+--------------------+------+---+-----------------+\n",
            "|      Lisa|   Archer|   1918-10-16|68533 Martha Trac...|  2096| 55|West Samanthaland|\n",
            "|     Jacob|    Young|   1940-04-07|08120 Scott Motor...|  8920| 41|         Mayhaven|\n",
            "|   Bradley|    Smith|   2007-06-08|3938 Smith Ranch ...| 14922| 51| East Jeffreyview|\n",
            "|    Thomas|  Herrera|   1927-02-25|0371 William Moto...|  5927| 48|  East Robertfort|\n",
            "|     Tyler|    Burke|   1988-01-31|53570 Kaufman Sta...|  9501| 44| Lake Joshuaville|\n",
            "|     Sarah|    Yates|   1951-10-24|444 Ryan Crest\\nP...|  3845| 54|        Jesseview|\n",
            "|  Kimberly|   Harvey|   1985-05-31|7416 Gomez Strave...|  5309| 57|     Emilychester|\n",
            "|     Tyler|    Adams|   2018-09-03|603 Sara Pass Apt...| 10554| 45|         Susanton|\n",
            "|    Robert|    Welch|   1987-09-03|60832 Brooks Loaf...| 11055| 56|       Wilsonbury|\n",
            "|   Jessica|   Porter|   1926-03-29|257 Wanda Knolls\\...|  8840| 46|       Mooneystad|\n",
            "|   Cynthia|    Mckee|   1963-09-24|90547 Ann Mills\\n...|  6835| 45|       Howellstad|\n",
            "|     Terri|Mccormick|   1925-10-30|PSC 7187, Box 049...|  3904| 54|      East Steven|\n",
            "|  Patricia|     Ryan|   1919-02-03|7601 Nichols Ford...|  4548| 58|         Wardfort|\n",
            "|     Tracy|      Liu|   1951-06-26|62913 Moore Land\\...| 10003| 48|       Lake Duane|\n",
            "| Christian|  Edwards|   1927-04-30|33370 Jeff Way\\nD...| 12340| 43|      Johnsonside|\n",
            "|  Jennifer|   Duncan|   1981-05-30|71214 Whitney Fie...|  7412| 40|       Millerstad|\n",
            "|     Maria|    Kelly|   1927-11-24|46501 Kenneth Str...|  3727| 59|    Morganborough|\n",
            "|   Kristen|Rodriguez|   1924-05-05|2315 York Radial\\...|  7216| 47|     Allisonburgh|\n",
            "|   Stephen|    Silva|   1926-06-27|018 Angela Villag...|  6248| 42|   Stevensonmouth|\n",
            "|     Maria| Morrison|   1911-09-14|50711 Page Turnpi...|  2029| 40|  North Vickiside|\n",
            "+----------+---------+-------------+--------------------+------+---+-----------------+\n",
            "only showing top 20 rows\n",
            "\n"
          ]
        }
      ]
    },
    {
      "cell_type": "code",
      "source": [
        "users_df.corr('salary', 'age')"
      ],
      "metadata": {
        "colab": {
          "base_uri": "https://localhost:8080/"
        },
        "id": "cJ0dyn7ndGr0",
        "outputId": "ce28e4e9-d38f-41ff-9911-55aabc61e520"
      },
      "execution_count": null,
      "outputs": [
        {
          "output_type": "execute_result",
          "data": {
            "text/plain": [
              "-0.0468698722837763"
            ]
          },
          "metadata": {},
          "execution_count": 11
        }
      ]
    },
    {
      "cell_type": "code",
      "source": [
        "user_df.describe().show()"
      ],
      "metadata": {
        "colab": {
          "base_uri": "https://localhost:8080/"
        },
        "id": "Yt2blQN7Cwgg",
        "outputId": "708fb969-e1f9-476f-8a94-42ec1a29d04b"
      },
      "execution_count": null,
      "outputs": [
        {
          "output_type": "stream",
          "name": "stdout",
          "text": [
            "+-------+----------+---------+--------------------+------------------+------------------+---------------+\n",
            "|summary|first_name|last_name|             address|            salary|               age|           city|\n",
            "+-------+----------+---------+--------------------+------------------+------------------+---------------+\n",
            "|  count|       100|      100|                 100|               100|               100|            100|\n",
            "|   mean|      null|     null|                null|           8585.33|              44.9|           null|\n",
            "| stddev|      null|     null|                null|3909.4131571674975|11.123276168794547|           null|\n",
            "|    min|    Alexis| Anderson|024 Murphy Creek\\...|              2034|                25|     Andreastad|\n",
            "|    max|   William|   Zamora|Unit 1881 Box 565...|             14876|                60|Whitakerborough|\n",
            "+-------+----------+---------+--------------------+------------------+------------------+---------------+\n",
            "\n"
          ]
        }
      ]
    },
    {
      "cell_type": "code",
      "source": [
        "from pyspark.sql.functions import mean, stddev, round as _round\n",
        "\n",
        "users_df.select(\n",
        "    mean(\"age\").alias(\"average age\"),\n",
        "    _round(stddev(\"age\"), 2).alias(\"age stddev\")\n",
        ").show()"
      ],
      "metadata": {
        "colab": {
          "base_uri": "https://localhost:8080/"
        },
        "id": "942GQVv2DRS6",
        "outputId": "fd6407dc-ac5a-4543-e30d-03427bb43509"
      },
      "execution_count": null,
      "outputs": [
        {
          "output_type": "stream",
          "name": "stdout",
          "text": [
            "+-----------+----------+\n",
            "|average age|age stddev|\n",
            "+-----------+----------+\n",
            "|      43.72|     10.89|\n",
            "+-----------+----------+\n",
            "\n"
          ]
        }
      ]
    },
    {
      "cell_type": "code",
      "source": [
        "users_df.groupBy(\"city\").avg(\"age\").show()"
      ],
      "metadata": {
        "colab": {
          "base_uri": "https://localhost:8080/"
        },
        "id": "KSVuNfzSD7qX",
        "outputId": "857af5ea-d823-4d4d-c89d-a5b770e29a85"
      },
      "execution_count": null,
      "outputs": [
        {
          "output_type": "stream",
          "name": "stdout",
          "text": [
            "+-----------------+--------+\n",
            "|             city|avg(age)|\n",
            "+-----------------+--------+\n",
            "|       Howellstad|    45.0|\n",
            "|  South Sarahbury|    37.0|\n",
            "|      Samuelville|    29.0|\n",
            "|      Gregoryside|    48.0|\n",
            "|        Jesseview|    54.0|\n",
            "|    Morganborough|    59.0|\n",
            "|       Lake Duane|    48.0|\n",
            "|New Daniellemouth|    28.0|\n",
            "|       Wayneville|    57.0|\n",
            "|     New Franklin|    26.0|\n",
            "|     Gregoryville|    58.0|\n",
            "|         Susanton|    45.0|\n",
            "|  West Rachelberg|    58.0|\n",
            "|South Tamaramouth|    38.0|\n",
            "|     Port Leonard|    33.0|\n",
            "|         New Eric|    35.0|\n",
            "|    Catherineside|    48.0|\n",
            "|West Samanthaland|    55.0|\n",
            "|     South Nicole|    43.0|\n",
            "|       Millerstad|    40.0|\n",
            "+-----------------+--------+\n",
            "only showing top 20 rows\n",
            "\n"
          ]
        }
      ]
    },
    {
      "cell_type": "code",
      "source": [
        "users_df.groupBy(\"city\").avg(\"salary\").show()"
      ],
      "metadata": {
        "colab": {
          "base_uri": "https://localhost:8080/"
        },
        "id": "5CyEsB8kD-u-",
        "outputId": "46a2d048-5aea-45e6-ffee-385e31ac14e6"
      },
      "execution_count": null,
      "outputs": [
        {
          "output_type": "stream",
          "name": "stdout",
          "text": [
            "+-----------------+-----------+\n",
            "|             city|avg(salary)|\n",
            "+-----------------+-----------+\n",
            "|       Howellstad|     6835.0|\n",
            "|  South Sarahbury|     8097.0|\n",
            "|      Samuelville|    11702.0|\n",
            "|      Gregoryside|    11116.0|\n",
            "|        Jesseview|     3845.0|\n",
            "|    Morganborough|     3727.0|\n",
            "|       Lake Duane|    10003.0|\n",
            "|New Daniellemouth|    14828.0|\n",
            "|       Wayneville|    10292.0|\n",
            "|     New Franklin|     3501.0|\n",
            "|     Gregoryville|    10905.0|\n",
            "|         Susanton|    10554.0|\n",
            "|  West Rachelberg|     7089.0|\n",
            "|South Tamaramouth|    11924.0|\n",
            "|     Port Leonard|     3813.0|\n",
            "|         New Eric|    10440.0|\n",
            "|    Catherineside|    14295.0|\n",
            "|West Samanthaland|     2096.0|\n",
            "|     South Nicole|     8731.0|\n",
            "|       Millerstad|     7412.0|\n",
            "+-----------------+-----------+\n",
            "only showing top 20 rows\n",
            "\n"
          ]
        }
      ]
    },
    {
      "cell_type": "code",
      "source": [
        "users_df.agg({\"age\": \"avg\"}).show()"
      ],
      "metadata": {
        "colab": {
          "base_uri": "https://localhost:8080/"
        },
        "id": "9dTOhwzZEJ6W",
        "outputId": "e72c4c09-ebe1-486e-fbdd-ace149950005"
      },
      "execution_count": null,
      "outputs": [
        {
          "output_type": "stream",
          "name": "stdout",
          "text": [
            "+--------+\n",
            "|avg(age)|\n",
            "+--------+\n",
            "|   43.72|\n",
            "+--------+\n",
            "\n"
          ]
        }
      ]
    },
    {
      "cell_type": "code",
      "source": [
        "users_df.groupBy(\"city\").count().show()"
      ],
      "metadata": {
        "colab": {
          "base_uri": "https://localhost:8080/"
        },
        "id": "3PKK2HOXEWwd",
        "outputId": "704a71d5-7779-484d-dc3d-ee69a23ae948"
      },
      "execution_count": null,
      "outputs": [
        {
          "output_type": "stream",
          "name": "stdout",
          "text": [
            "+-----------------+-----+\n",
            "|             city|count|\n",
            "+-----------------+-----+\n",
            "|       Howellstad|    1|\n",
            "|  South Sarahbury|    1|\n",
            "|      Samuelville|    1|\n",
            "|      Gregoryside|    1|\n",
            "|        Jesseview|    1|\n",
            "|    Morganborough|    1|\n",
            "|       Lake Duane|    1|\n",
            "|New Daniellemouth|    1|\n",
            "|       Wayneville|    1|\n",
            "|     New Franklin|    1|\n",
            "|     Gregoryville|    1|\n",
            "|         Susanton|    1|\n",
            "|  West Rachelberg|    1|\n",
            "|South Tamaramouth|    1|\n",
            "|     Port Leonard|    1|\n",
            "|         New Eric|    1|\n",
            "|    Catherineside|    1|\n",
            "|West Samanthaland|    1|\n",
            "|     South Nicole|    1|\n",
            "|       Millerstad|    1|\n",
            "+-----------------+-----+\n",
            "only showing top 20 rows\n",
            "\n"
          ]
        }
      ]
    },
    {
      "cell_type": "code",
      "source": [
        "len({row.city for row in users_df[['city']].collect()})"
      ],
      "metadata": {
        "colab": {
          "base_uri": "https://localhost:8080/"
        },
        "id": "hv2dFrehFLZ_",
        "outputId": "5864f7e6-2378-4aa8-f690-bb2173dc720f"
      },
      "execution_count": null,
      "outputs": [
        {
          "output_type": "execute_result",
          "data": {
            "text/plain": [
              "97"
            ]
          },
          "metadata": {},
          "execution_count": 20
        }
      ]
    },
    {
      "cell_type": "code",
      "source": [
        "users_df.groupBy('city').count().filter('count > 1').show()"
      ],
      "metadata": {
        "colab": {
          "base_uri": "https://localhost:8080/"
        },
        "id": "rtbDg7lAF5Yb",
        "outputId": "eecab69b-7571-4726-bb4f-ac359a5a10ab"
      },
      "execution_count": null,
      "outputs": [
        {
          "output_type": "stream",
          "name": "stdout",
          "text": [
            "+------------+-----+\n",
            "|        city|count|\n",
            "+------------+-----+\n",
            "|East Michael|    3|\n",
            "|Heathershire|    2|\n",
            "+------------+-----+\n",
            "\n"
          ]
        }
      ]
    },
    {
      "cell_type": "code",
      "source": [
        "users_df.groupBy('city').count().filter('count > 1 and count=0').collect()"
      ],
      "metadata": {
        "colab": {
          "base_uri": "https://localhost:8080/"
        },
        "id": "kvPmlrjcGlaK",
        "outputId": "8ff4fe6c-7385-4aac-a019-97e73fac54e9"
      },
      "execution_count": null,
      "outputs": [
        {
          "output_type": "execute_result",
          "data": {
            "text/plain": [
              "[]"
            ]
          },
          "metadata": {},
          "execution_count": 35
        }
      ]
    },
    {
      "cell_type": "code",
      "source": [
        "users_df.agg({'age':'avg', 'salary':'avg'}).show()"
      ],
      "metadata": {
        "colab": {
          "base_uri": "https://localhost:8080/"
        },
        "id": "GlFVFowPHTjg",
        "outputId": "6aa833da-cca8-49e1-9ce1-7a5f34ed2bc2"
      },
      "execution_count": null,
      "outputs": [
        {
          "output_type": "stream",
          "name": "stdout",
          "text": [
            "+-----------+--------+\n",
            "|avg(salary)|avg(age)|\n",
            "+-----------+--------+\n",
            "|    8426.94|   43.72|\n",
            "+-----------+--------+\n",
            "\n"
          ]
        }
      ]
    },
    {
      "cell_type": "code",
      "source": [
        "res = users_df.groupBy('city')\n",
        "type(res)"
      ],
      "metadata": {
        "colab": {
          "base_uri": "https://localhost:8080/"
        },
        "id": "d7RXBJQmHrJn",
        "outputId": "6b87b6ce-a643-4d6c-d2d9-617d86a7bd72"
      },
      "execution_count": null,
      "outputs": [
        {
          "output_type": "execute_result",
          "data": {
            "text/plain": [
              "pyspark.sql.group.GroupedData"
            ]
          },
          "metadata": {},
          "execution_count": 37
        }
      ]
    },
    {
      "cell_type": "code",
      "source": [
        "res.agg({'age':'min'}).show()"
      ],
      "metadata": {
        "colab": {
          "base_uri": "https://localhost:8080/"
        },
        "id": "ZKKv0SdmIGUr",
        "outputId": "c32ff738-e00f-4d0a-902f-ede111e9d7fb"
      },
      "execution_count": null,
      "outputs": [
        {
          "output_type": "stream",
          "name": "stdout",
          "text": [
            "+-----------------+--------+\n",
            "|             city|min(age)|\n",
            "+-----------------+--------+\n",
            "|       Howellstad|      45|\n",
            "|  South Sarahbury|      37|\n",
            "|      Samuelville|      29|\n",
            "|      Gregoryside|      48|\n",
            "|        Jesseview|      54|\n",
            "|    Morganborough|      59|\n",
            "|       Lake Duane|      48|\n",
            "|New Daniellemouth|      28|\n",
            "|       Wayneville|      57|\n",
            "|     New Franklin|      26|\n",
            "|     Gregoryville|      58|\n",
            "|         Susanton|      45|\n",
            "|  West Rachelberg|      58|\n",
            "|South Tamaramouth|      38|\n",
            "|     Port Leonard|      33|\n",
            "|         New Eric|      35|\n",
            "|    Catherineside|      48|\n",
            "|West Samanthaland|      55|\n",
            "|     South Nicole|      43|\n",
            "|       Millerstad|      40|\n",
            "+-----------------+--------+\n",
            "only showing top 20 rows\n",
            "\n"
          ]
        }
      ]
    },
    {
      "cell_type": "code",
      "source": [
        "users_df.show()"
      ],
      "metadata": {
        "colab": {
          "base_uri": "https://localhost:8080/"
        },
        "id": "T_ByqF6XI0H-",
        "outputId": "986efc87-e59d-42ba-cfd9-3eab166a6623"
      },
      "execution_count": null,
      "outputs": [
        {
          "output_type": "stream",
          "name": "stdout",
          "text": [
            "+----------+---------+-------------+--------------------+------+---+-----------------+\n",
            "|first_name|last_name|date_of_birth|             address|salary|age|             city|\n",
            "+----------+---------+-------------+--------------------+------+---+-----------------+\n",
            "|   Jeffrey|   Hansen|   2021-01-17|PSC 1490, Box 538...| 11924| 38|South Tamaramouth|\n",
            "|      Lisa|   Archer|   1918-10-16|68533 Martha Trac...|  2096| 55|West Samanthaland|\n",
            "|     Jacob|    Young|   1940-04-07|08120 Scott Motor...|  8920| 41|         Mayhaven|\n",
            "|   Christy| Williams|   1993-03-27|545 Elizabeth Dri...|  4107| 29| East Jessicatown|\n",
            "|   Bradley|    Smith|   2007-06-08|3938 Smith Ranch ...| 14922| 51| East Jeffreyview|\n",
            "|    Thomas|  Herrera|   1927-02-25|0371 William Moto...|  5927| 48|  East Robertfort|\n",
            "|     Tyler|    Burke|   1988-01-31|53570 Kaufman Sta...|  9501| 44| Lake Joshuaville|\n",
            "|      Jade|    Duran|   2020-09-30|33295 Weiss Branc...|  4764| 34|      Lake Hailey|\n",
            "|     Sarah|    Yates|   1951-10-24|444 Ryan Crest\\nP...|  3845| 54|        Jesseview|\n",
            "|  Kimberly|   Harvey|   1985-05-31|7416 Gomez Strave...|  5309| 57|     Emilychester|\n",
            "|     Tyler|    Adams|   2018-09-03|603 Sara Pass Apt...| 10554| 45|         Susanton|\n",
            "|    Robert|    Welch|   1987-09-03|60832 Brooks Loaf...| 11055| 56|       Wilsonbury|\n",
            "|   Jessica|   Porter|   1926-03-29|257 Wanda Knolls\\...|  8840| 46|       Mooneystad|\n",
            "|   Cynthia|    Mckee|   1963-09-24|90547 Ann Mills\\n...|  6835| 45|       Howellstad|\n",
            "|     Terri|Mccormick|   1925-10-30|PSC 7187, Box 049...|  3904| 54|      East Steven|\n",
            "|  Patricia|     Ryan|   1919-02-03|7601 Nichols Ford...|  4548| 58|         Wardfort|\n",
            "|     Tracy|      Liu|   1951-06-26|62913 Moore Land\\...| 10003| 48|       Lake Duane|\n",
            "|     Betty| Friedman|   1944-01-13|30393 Richard Bri...| 11645| 31|        Arroyoton|\n",
            "| Christian|  Edwards|   1927-04-30|33370 Jeff Way\\nD...| 12340| 43|      Johnsonside|\n",
            "|   Heather|     Pena|   2010-05-30|49934 Cobb Inlet\\...| 14262| 39|     East Michael|\n",
            "+----------+---------+-------------+--------------------+------+---+-----------------+\n",
            "only showing top 20 rows\n",
            "\n"
          ]
        }
      ]
    },
    {
      "cell_type": "code",
      "source": [
        "from pyspark.sql.functions import udf\n",
        "\n",
        "@udf('float')\n",
        "def amount_net(amount_gross: float) -> float:\n",
        "    return amount_gross * 0.81"
      ],
      "metadata": {
        "id": "v6DJ3Di4Ikl9"
      },
      "execution_count": null,
      "outputs": []
    },
    {
      "cell_type": "code",
      "source": [
        "users_df.select(\n",
        "    '*',\n",
        "    users_df.salary.alias('SALARY GROSS'),\n",
        "    amount_net(users_df.salary).alias('SALARY NET')\n",
        ").filter('age >= 30').orderBy('age', ascending=False).show()"
      ],
      "metadata": {
        "colab": {
          "base_uri": "https://localhost:8080/"
        },
        "id": "X5PGfmT5ImVa",
        "outputId": "930562f2-4ee3-4c7d-a7bc-7e922edee9e7"
      },
      "execution_count": null,
      "outputs": [
        {
          "output_type": "stream",
          "name": "stdout",
          "text": [
            "+----------+---------+-------------+--------------------+------+---+--------------------+------------+----------+\n",
            "|first_name|last_name|date_of_birth|             address|salary|age|                city|SALARY GROSS|SALARY NET|\n",
            "+----------+---------+-------------+--------------------+------+---+--------------------+------------+----------+\n",
            "|   Michael|  Johnson|   1947-10-14|798 Roach Port Ap...|  5727| 60|        Johnsonville|        5727|   4638.87|\n",
            "|   Melissa| Matthews|   2000-03-10|972 Kimberly Curv...| 11496| 60|   Lake Annettemouth|       11496|   9311.76|\n",
            "|     Bryan|  Jackson|   1988-11-04|2005 Sanchez Rout...| 10207| 60|    Port Luisborough|       10207|   8267.67|\n",
            "|     Maria|    Kelly|   1927-11-24|46501 Kenneth Str...|  3727| 59|       Morganborough|        3727|   3018.87|\n",
            "|  Michelle|  Sanders|   1995-01-30|07802 Murphy Plac...|  9004| 59|Lake Christophers...|        9004|   7293.24|\n",
            "|     Karen|  Rollins|   2022-08-25|PSC 7990, Box 692...|  7618| 59|       North William|        7618|   6170.58|\n",
            "|   Deborah|    Owens|   1923-11-21|376 Julie Squares...|  5013| 59|    East Brendaville|        5013|   4060.53|\n",
            "|      Dawn|     Wise|   1946-07-14|8797 James Forges...|  4581| 59|         Andrewburgh|        4581|   3710.61|\n",
            "| Elizabeth|    Foley|   1932-06-03|20583 Nicole Mews...|  7089| 58|     West Rachelberg|        7089|   5742.09|\n",
            "|     Carla|    Gomez|   1993-05-05|USS Johnson\\nFPO ...| 12185| 58|         Gibsonmouth|       12185|   9869.85|\n",
            "|  Patricia|     Ryan|   1919-02-03|7601 Nichols Ford...|  4548| 58|            Wardfort|        4548|   3683.88|\n",
            "|    Robert| Anderson|   1916-09-08|0151 Marc Mews Su...|  2274| 58|     Thompsonchester|        2274|   1841.94|\n",
            "|   Michael|   Arnold|   1916-12-09|7404 Ho Hollow Ap...| 10905| 58|        Gregoryville|       10905|   8833.05|\n",
            "|    Kristy|       Ho|   1911-08-09|810 Davis Fall Su...|  4435| 57|        East Michael|        4435|   3592.35|\n",
            "|   Heather|    Munoz|   1976-12-06|327 Daniel Street...| 10292| 57|          Wayneville|       10292|   8336.52|\n",
            "|  Kimberly|   Harvey|   1985-05-31|7416 Gomez Strave...|  5309| 57|        Emilychester|        5309|   4300.29|\n",
            "|    Robert|    Welch|   1987-09-03|60832 Brooks Loaf...| 11055| 56|          Wilsonbury|       11055|   8954.55|\n",
            "|      Luis|    Henry|   2003-09-21|5918 Patterson Hi...|  2671| 56|   East Anthonyburgh|        2671|   2163.51|\n",
            "|    Nicole|     Khan|   1967-01-01|3916 Alvarez Vall...| 13100| 56|          Nancymouth|       13100|   10611.0|\n",
            "|    Sandra|Gutierrez|   1954-11-02|8496 Yolanda Unde...| 12334| 55|    North Joycemouth|       12334|   9990.54|\n",
            "+----------+---------+-------------+--------------------+------+---+--------------------+------------+----------+\n",
            "only showing top 20 rows\n",
            "\n"
          ]
        }
      ]
    },
    {
      "cell_type": "code",
      "source": [
        "# sql view\n",
        "users_df.createOrReplaceTempView(\"Users\")"
      ],
      "metadata": {
        "id": "z2C4QyoSQODO"
      },
      "execution_count": null,
      "outputs": []
    },
    {
      "cell_type": "code",
      "source": [
        "spark_session.sql(\n",
        "    \"\"\"\n",
        "      Select \n",
        "        city as `City`, avg(age) as `Average age` \n",
        "        From Users \n",
        "        Group By city\n",
        "        Order by `Average age` desc\n",
        "        Limit 3\n",
        "    \"\"\").show()"
      ],
      "metadata": {
        "colab": {
          "base_uri": "https://localhost:8080/"
        },
        "id": "14dKaOtqK6q6",
        "outputId": "3f550b12-1d58-4463-aa8d-9e3235f97e9a"
      },
      "execution_count": null,
      "outputs": [
        {
          "output_type": "stream",
          "name": "stdout",
          "text": [
            "+-----------------+-----------+\n",
            "|             City|Average age|\n",
            "+-----------------+-----------+\n",
            "|     Johnsonville|       60.0|\n",
            "| Port Luisborough|       60.0|\n",
            "|Lake Annettemouth|       60.0|\n",
            "+-----------------+-----------+\n",
            "\n"
          ]
        }
      ]
    },
    {
      "cell_type": "code",
      "source": [
        "result = spark_session.sql(\n",
        "    \"\"\"\n",
        "      Select \n",
        "        city as `City`, avg(age) as `Average age` \n",
        "        From Users \n",
        "        Group By city\n",
        "        Order by `Average age` desc\n",
        "        Limit 3\n",
        "    \"\"\")\n"
      ],
      "metadata": {
        "id": "HTBI2o0XLszg"
      },
      "execution_count": null,
      "outputs": []
    },
    {
      "cell_type": "code",
      "source": [
        "result.collect()"
      ],
      "metadata": {
        "colab": {
          "base_uri": "https://localhost:8080/"
        },
        "id": "eTUcF36qQZlz",
        "outputId": "d4efdd04-3e8f-4c65-dccf-0e608ad499db"
      },
      "execution_count": null,
      "outputs": [
        {
          "output_type": "execute_result",
          "data": {
            "text/plain": [
              "[Row(City='Johnsonville', Average age=60.0),\n",
              " Row(City='Port Luisborough', Average age=60.0),\n",
              " Row(City='Lake Annettemouth', Average age=60.0)]"
            ]
          },
          "metadata": {},
          "execution_count": 74
        }
      ]
    },
    {
      "cell_type": "code",
      "source": [
        "avg_ages_by_city = spark_session.sql(\n",
        "    \"\"\"\n",
        "      Select \n",
        "        city as `City`, avg(age) as `Average age` \n",
        "        From Users \n",
        "        Group By city\n",
        "        Order by `Average age`\n",
        "        Limit 30\n",
        "    \"\"\")"
      ],
      "metadata": {
        "id": "s9aJuY48Qa-d"
      },
      "execution_count": null,
      "outputs": []
    },
    {
      "cell_type": "code",
      "source": [
        "avg_ages_by_city.toPandas().plot(x='City', y='Average age', kind='bar');"
      ],
      "metadata": {
        "colab": {
          "base_uri": "https://localhost:8080/",
          "height": 373
        },
        "id": "vQqRybeNRWVx",
        "outputId": "6ab48072-5ef1-4207-8327-2c0d22548a1b"
      },
      "execution_count": null,
      "outputs": [
        {
          "output_type": "display_data",
          "data": {
            "text/plain": [
              "<Figure size 432x288 with 1 Axes>"
            ],
            "image/png": "[encoded data removed]"
          },
          "metadata": {
            "needs_background": "light"
          }
        }
      ]
    },
    {
      "cell_type": "code",
      "source": [
        "avg_ages_by_city[['Average age']].toPandas().plot(kind='hist');"
      ],
      "metadata": {
        "colab": {
          "base_uri": "https://localhost:8080/",
          "height": 265
        },
        "id": "b7z-wFGlSXLi",
        "outputId": "60c5eb52-af91-44ad-bf1e-e170f4ab4afc"
      },
      "execution_count": null,
      "outputs": [
        {
          "output_type": "display_data",
          "data": {
            "text/plain": [
              "<Figure size 432x288 with 1 Axes>"
            ],
            "image/png": "[encoded data removed]"
          },
          "metadata": {
            "needs_background": "light"
          }
        }
      ]
    },
    {
      "cell_type": "code",
      "source": [
        "users_by_city = spark_session.sql(\"Select first_name, last_name, city From Users\")\n",
        "salaries_by_city = spark_session.sql(\"Select salary, city From Users\")\n",
        "\n",
        "users_by_city.createOrReplaceTempView(\"UsersByCity\")\n",
        "salaries_by_city.createOrReplaceTempView(\"SalariesByCity\")"
      ],
      "metadata": {
        "id": "wE2NwZ9pS1ov"
      },
      "execution_count": null,
      "outputs": []
    },
    {
      "cell_type": "code",
      "source": [
        "spark_session.sql(\n",
        "    \"\"\"\n",
        "      Select\n",
        "      u.first_name,\n",
        "      u.last_name,\n",
        "      u.city,\n",
        "      s.salary\n",
        "      From UsersByCity u \n",
        "      Inner Join SalariesByCity s \n",
        "      On u.city = s.city\n",
        "    \"\"\").show()"
      ],
      "metadata": {
        "colab": {
          "base_uri": "https://localhost:8080/"
        },
        "id": "AoP8R46yTa1N",
        "outputId": "e0ace9d8-141f-4b46-daad-b97822b8dfe4"
      },
      "execution_count": null,
      "outputs": [
        {
          "output_type": "stream",
          "name": "stdout",
          "text": [
            "+----------+----------+-----------------+------+\n",
            "|first_name| last_name|             city|salary|\n",
            "+----------+----------+-----------------+------+\n",
            "|   Cynthia|     Mckee|       Howellstad|  6835|\n",
            "|   Matthew|    Powell|  South Sarahbury|  8097|\n",
            "|     Bobby|    Graham|      Samuelville| 11702|\n",
            "|       Amy|   Johnson|      Gregoryside| 11116|\n",
            "|     Sarah|     Yates|        Jesseview|  3845|\n",
            "|     Maria|     Kelly|    Morganborough|  3727|\n",
            "|     Tracy|       Liu|       Lake Duane| 10003|\n",
            "| Katherine|   Huffman|New Daniellemouth| 14828|\n",
            "|   Heather|     Munoz|       Wayneville| 10292|\n",
            "|     Wendy|   Johnson|     New Franklin|  3501|\n",
            "|   Michael|    Arnold|     Gregoryville| 10905|\n",
            "|     Tyler|     Adams|         Susanton| 10554|\n",
            "| Elizabeth|     Foley|  West Rachelberg|  7089|\n",
            "|   Jeffrey|    Hansen|South Tamaramouth| 11924|\n",
            "|    Sandra|   Morales|     Port Leonard|  3813|\n",
            "|     Tracy|    Nelson|         New Eric| 10440|\n",
            "|     Brent|Strickland|    Catherineside| 14295|\n",
            "|      Lisa|    Archer|West Samanthaland|  2096|\n",
            "|   Shannon|  Callahan|     South Nicole|  8731|\n",
            "|  Jennifer|    Duncan|       Millerstad|  7412|\n",
            "+----------+----------+-----------------+------+\n",
            "only showing top 20 rows\n",
            "\n"
          ]
        }
      ]
    },
    {
      "cell_type": "code",
      "source": [
        "result = spark_session.sql(\n",
        "    \"\"\"\n",
        "      Select\n",
        "      u.first_name,\n",
        "      u.last_name,\n",
        "      u.city,\n",
        "      s.salary\n",
        "      From UsersByCity u \n",
        "      Inner Join SalariesByCity s \n",
        "      On u.city = s.city\n",
        "    \"\"\")"
      ],
      "metadata": {
        "id": "qgylUwd2VnrH"
      },
      "execution_count": null,
      "outputs": []
    },
    {
      "cell_type": "code",
      "source": [
        "result.show()"
      ],
      "metadata": {
        "colab": {
          "base_uri": "https://localhost:8080/"
        },
        "id": "ji1PenieVqUH",
        "outputId": "fa579034-36c9-4a92-f936-276ddfb3e786"
      },
      "execution_count": null,
      "outputs": [
        {
          "output_type": "stream",
          "name": "stdout",
          "text": [
            "+----------+----------+-----------------+------+\n",
            "|first_name| last_name|             city|salary|\n",
            "+----------+----------+-----------------+------+\n",
            "|   Cynthia|     Mckee|       Howellstad|  6835|\n",
            "|   Matthew|    Powell|  South Sarahbury|  8097|\n",
            "|     Bobby|    Graham|      Samuelville| 11702|\n",
            "|       Amy|   Johnson|      Gregoryside| 11116|\n",
            "|     Sarah|     Yates|        Jesseview|  3845|\n",
            "|     Maria|     Kelly|    Morganborough|  3727|\n",
            "|     Tracy|       Liu|       Lake Duane| 10003|\n",
            "| Katherine|   Huffman|New Daniellemouth| 14828|\n",
            "|   Heather|     Munoz|       Wayneville| 10292|\n",
            "|     Wendy|   Johnson|     New Franklin|  3501|\n",
            "|   Michael|    Arnold|     Gregoryville| 10905|\n",
            "|     Tyler|     Adams|         Susanton| 10554|\n",
            "| Elizabeth|     Foley|  West Rachelberg|  7089|\n",
            "|   Jeffrey|    Hansen|South Tamaramouth| 11924|\n",
            "|    Sandra|   Morales|     Port Leonard|  3813|\n",
            "|     Tracy|    Nelson|         New Eric| 10440|\n",
            "|     Brent|Strickland|    Catherineside| 14295|\n",
            "|      Lisa|    Archer|West Samanthaland|  2096|\n",
            "|   Shannon|  Callahan|     South Nicole|  8731|\n",
            "|  Jennifer|    Duncan|       Millerstad|  7412|\n",
            "+----------+----------+-----------------+------+\n",
            "only showing top 20 rows\n",
            "\n"
          ]
        }
      ]
    },
    {
      "cell_type": "code",
      "source": [
        "result.toPandas().to_csv('result.csv')"
      ],
      "metadata": {
        "id": "6wmZ7y81Vuww"
      },
      "execution_count": null,
      "outputs": []
    },
    {
      "cell_type": "code",
      "source": [
        "result.rdd.saveAsTextFile('result_rdd.txt')"
      ],
      "metadata": {
        "id": "0elE8RwiWd-W"
      },
      "execution_count": null,
      "outputs": []
    },
    {
      "cell_type": "code",
      "source": [
        "users_df.select(['age', 'salary']).toPandas().plot(x='age', y='salary', kind='scatter');"
      ],
      "metadata": {
        "colab": {
          "base_uri": "https://localhost:8080/",
          "height": 279
        },
        "id": "tYDA3zulXxBN",
        "outputId": "625d9f25-8598-4236-a30d-f2283d15a87c"
      },
      "execution_count": null,
      "outputs": [
        {
          "output_type": "display_data",
          "data": {
            "text/plain": [
              "<Figure size 432x288 with 1 Axes>"
            ],
            "image/png": "[encoded data removed]"
          },
          "metadata": {
            "needs_background": "light"
          }
        }
      ]
    }
  ]
}