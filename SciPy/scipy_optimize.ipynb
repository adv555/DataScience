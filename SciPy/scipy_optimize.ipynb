{
  "nbformat": 4,
  "nbformat_minor": 0,
  "metadata": {
    "colab": {
      "provenance": [],
      "authorship_tag": "ABX9TyNPcG0nwGeWJgINJX5Un9++",
      "include_colab_link": true
    },
    "kernelspec": {
      "name": "python3",
      "display_name": "Python 3"
    },
    "language_info": {
      "name": "python"
    }
  },
  "cells": [
    {
      "cell_type": "markdown",
      "metadata": {
        "id": "view-in-github",
        "colab_type": "text"
      },
      "source": [
        "<a href=\"https://colab.research.google.com/github/adv555/DataScience/blob/main/scipy_optimize.ipynb\" target=\"_parent\"><img src=\"https://colab.research.google.com/assets/colab-badge.svg\" alt=\"Open In Colab\"/></a>"
      ]
    },
    {
      "cell_type": "code",
      "source": [
        "import numpy as np\n",
        "from scipy.optimize import minimize, minimize_scalar, leastsq, curve_fit, brentq\n",
        "import matplotlib.pyplot as plt\n"
      ],
      "metadata": {
        "id": "aVpXoDRlY8JM"
      },
      "execution_count": null,
      "outputs": []
    },
    {
      "cell_type": "code",
      "execution_count": null,
      "metadata": {
        "id": "mXJQgzshYHMS"
      },
      "outputs": [],
      "source": [
        "def grad(f,x0,step=0.00001):\n",
        "  return (f(x0+step)-f(x0)) / step"
      ]
    },
    {
      "cell_type": "code",
      "source": [
        "x0 = 0.4523"
      ],
      "metadata": {
        "id": "S05HRotDZF0L"
      },
      "execution_count": null,
      "outputs": []
    },
    {
      "cell_type": "code",
      "source": [
        "print(np.cos(x0))\n",
        "print(grad(np.sin, x0))\n",
        "print(abs(np.cos(x0) - grad(np.sin, x0, step=10**-10)))"
      ],
      "metadata": {
        "colab": {
          "base_uri": "https://localhost:8080/"
        },
        "id": "OSl-W1keZJ5I",
        "outputId": "ecd073fc-920b-4e44-86ba-9996bb24fef7"
      },
      "execution_count": null,
      "outputs": [
        {
          "output_type": "stream",
          "name": "stdout",
          "text": [
            "0.8994443008247227\n",
            "0.8994421156316433\n",
            "1.0701778629940151e-07\n"
          ]
        }
      ]
    },
    {
      "cell_type": "code",
      "source": [
        "def grad2(f: callable, x0: np.array, step: float = 0.00001) -> np.array:\n",
        "  delta_x = np.array([x0[0] + step, x0[1]])\n",
        "  delta_y = np.array([x0[0], x0[1] + step])\n",
        "\n",
        "  x = (f(delta_x)-f(x0)) / step\n",
        "  y = (f(delta_y)-f(x0)) / step\n",
        "\n",
        "  return np.array([x[0], y[1]]);"
      ],
      "metadata": {
        "id": "spwapidtdmuQ"
      },
      "execution_count": null,
      "outputs": []
    },
    {
      "cell_type": "code",
      "source": [
        "x0 = np.array([0.1241, 0.15435])"
      ],
      "metadata": {
        "id": "zHD90WUNfbPA"
      },
      "execution_count": null,
      "outputs": []
    },
    {
      "cell_type": "code",
      "source": [
        "print('1:', np.cos(x0))"
      ],
      "metadata": {
        "colab": {
          "base_uri": "https://localhost:8080/"
        },
        "id": "T7k9-KWrgmr8",
        "outputId": "b569f0d4-7b0b-42e6-b026-bcf371380f93"
      },
      "execution_count": null,
      "outputs": [
        {
          "output_type": "stream",
          "name": "stdout",
          "text": [
            "1: [0.99230947 0.98811167]\n"
          ]
        }
      ]
    },
    {
      "cell_type": "code",
      "source": [
        "print('2:', grad2(np.sin, x0))"
      ],
      "metadata": {
        "colab": {
          "base_uri": "https://localhost:8080/"
        },
        "id": "tRJJTChvfQMg",
        "outputId": "408133f1-2bf9-44ba-8486-5e346d788dbd"
      },
      "execution_count": null,
      "outputs": [
        {
          "output_type": "stream",
          "name": "stdout",
          "text": [
            "2: [0.99230885 0.9881109 ]\n"
          ]
        }
      ]
    },
    {
      "cell_type": "code",
      "source": [
        "def gradient_descebt(f, x0, learning_rate, max_iteration=100, eps =0.0001):\n",
        "  x_current = None\n",
        "  x_prev = x0\n",
        "\n",
        "  for _ in range(max_iteration):\n",
        "    x_current = x_prev - learning_rate * grad(f, x_prev)\n",
        "    if np.linalg.norm(x_current - x_prev) <= eps:\n",
        "      break\n",
        "    x_prev = x_current\n",
        "\n",
        "  return x_current\n"
      ],
      "metadata": {
        "id": "GYKatBwohUxp"
      },
      "execution_count": null,
      "outputs": []
    },
    {
      "cell_type": "code",
      "source": [
        "def f(x: np.array)-> float:\n",
        "  # return x ** 2 \n",
        "  return (x - 10) ** 2 "
      ],
      "metadata": {
        "id": "MPSgZaWChUjW"
      },
      "execution_count": null,
      "outputs": []
    },
    {
      "cell_type": "code",
      "source": [
        "x0 = np.array([0.443, 0.231])\n",
        "x_min = gradient_descebt(f, x0, learning_rate= 0.4)\n",
        "x_min"
      ],
      "metadata": {
        "colab": {
          "base_uri": "https://localhost:8080/"
        },
        "id": "yivnhNwbkcWB",
        "outputId": "142d02a2-9cd4-4642-a0f7-1a797b9920e3"
      },
      "execution_count": null,
      "outputs": [
        {
          "output_type": "execute_result",
          "data": {
            "text/plain": [
              "array([9.99999011, 9.99999   ])"
            ]
          },
          "metadata": {},
          "execution_count": 17
        }
      ]
    },
    {
      "cell_type": "markdown",
      "source": [
        "## Оптимизация скалярной функции"
      ],
      "metadata": {
        "id": "0sWkltsP5SBM"
      }
    },
    {
      "cell_type": "code",
      "source": [
        "def scalar_function(x):\n",
        "  return np.sin(x)*np.exp(-0.1*(x-0.6)**2)\n"
      ],
      "metadata": {
        "id": "M8K5gLLs5RBb"
      },
      "execution_count": null,
      "outputs": []
    },
    {
      "cell_type": "code",
      "source": [
        "x =np.linspace(-10, 10, 200)\n",
        "\n",
        "\n",
        "plt.rcParams['figure.figsize'] = (10, 6)\n",
        "plt.plot(x, scalar_function(x))\n",
        "\n",
        "plt.grid()\n",
        "plt.show()"
      ],
      "metadata": {
        "colab": {
          "base_uri": "https://localhost:8080/",
          "height": 378
        },
        "id": "XBjToTVy569C",
        "outputId": "412b6b77-8376-4996-ac34-df795b94a498"
      },
      "execution_count": null,
      "outputs": [
        {
          "output_type": "display_data",
          "data": {
            "text/plain": [
              "<Figure size 720x432 with 1 Axes>"
            ],
            "image/png": "[encoded data removed]"
          },
          "metadata": {
            "needs_background": "light"
          }
        }
      ]
    },
    {
      "cell_type": "code",
      "source": [
        "result = minimize_scalar(scalar_function)\n",
        "result"
      ],
      "metadata": {
        "id": "XFEvQTzB75ta",
        "colab": {
          "base_uri": "https://localhost:8080/"
        },
        "outputId": "dcb6bf7d-2b2a-493b-9011-1806e9c1935a"
      },
      "execution_count": null,
      "outputs": [
        {
          "output_type": "execute_result",
          "data": {
            "text/plain": [
              "     fun: -0.6743051024666711\n",
              "    nfev: 15\n",
              "     nit: 10\n",
              " success: True\n",
              "       x: -1.2214484245210282"
            ]
          },
          "metadata": {},
          "execution_count": 21
        }
      ]
    },
    {
      "cell_type": "code",
      "source": [
        "plt.rcParams['figure.figsize'] = (10, 6)\n",
        "plt.plot(x, scalar_function(x))\n",
        "plt.plot(result['x'], scalar_function(result['x']), 'ro')\n",
        "\n",
        "\n",
        "plt.grid()\n",
        "plt.show()"
      ],
      "metadata": {
        "id": "yBTPL3808Pfb",
        "colab": {
          "base_uri": "https://localhost:8080/",
          "height": 377
        },
        "outputId": "1ae15b40-efac-4e81-f26f-68fcb9bb2b7c"
      },
      "execution_count": null,
      "outputs": [
        {
          "output_type": "display_data",
          "data": {
            "text/plain": [
              "<Figure size 720x432 with 1 Axes>"
            ],
            "image/png": "[encoded data removed]"
          },
          "metadata": {
            "needs_background": "light"
          }
        }
      ]
    },
    {
      "cell_type": "markdown",
      "source": [
        "## Ограничения"
      ],
      "metadata": {
        "id": "fwz_HZtWGEEy"
      }
    },
    {
      "cell_type": "code",
      "source": [
        "bounds = (2.5, 7.5)\n",
        "result = minimize_scalar(scalar_function, bounds=bounds, method='Bounded' )\n",
        "result"
      ],
      "metadata": {
        "colab": {
          "base_uri": "https://localhost:8080/"
        },
        "id": "XNcdPGNwGKZc",
        "outputId": "9b3a47a0-bfb6-49ba-f4b5-1bc389cb1be5"
      },
      "execution_count": null,
      "outputs": [
        {
          "output_type": "execute_result",
          "data": {
            "text/plain": [
              "     fun: -0.24037563941316345\n",
              " message: 'Solution found.'\n",
              "    nfev: 11\n",
              "  status: 0\n",
              " success: True\n",
              "       x: 4.101465516301833"
            ]
          },
          "metadata": {},
          "execution_count": 23
        }
      ]
    },
    {
      "cell_type": "code",
      "source": [
        "plt.rcParams['figure.figsize'] = (10, 6)\n",
        "plt.plot(x, scalar_function(x))\n",
        "plt.plot(result['x'], scalar_function(result['x']), 'ro')\n",
        "\n",
        "\n",
        "plt.grid()\n",
        "plt.show()"
      ],
      "metadata": {
        "colab": {
          "base_uri": "https://localhost:8080/",
          "height": 378
        },
        "id": "7ZEUvyHePP0i",
        "outputId": "028f3046-3db9-47e7-de1e-46fd8ca68483"
      },
      "execution_count": null,
      "outputs": [
        {
          "output_type": "display_data",
          "data": {
            "text/plain": [
              "<Figure size 720x432 with 1 Axes>"
            ],
            "image/png": "[encoded data removed]"
          },
          "metadata": {
            "needs_background": "light"
          }
        }
      ]
    },
    {
      "cell_type": "code",
      "source": [
        "bounds = (-2.5, 0.0)\n",
        "result = minimize_scalar(scalar_function, bounds=bounds, method='Bounded' )\n",
        "result"
      ],
      "metadata": {
        "colab": {
          "base_uri": "https://localhost:8080/"
        },
        "id": "IKwQ7o3QPr_h",
        "outputId": "ca1c1782-8fbd-4a22-b513-6def79f0c576"
      },
      "execution_count": null,
      "outputs": [
        {
          "output_type": "execute_result",
          "data": {
            "text/plain": [
              "     fun: -0.6743051024666\n",
              " message: 'Solution found.'\n",
              "    nfev: 10\n",
              "  status: 0\n",
              " success: True\n",
              "       x: -1.2214480258690215"
            ]
          },
          "metadata": {},
          "execution_count": 25
        }
      ]
    },
    {
      "cell_type": "code",
      "source": [
        "plt.rcParams['figure.figsize'] = (10, 6)\n",
        "plt.plot(x, scalar_function(x))\n",
        "plt.plot(result['x'], scalar_function(result['x']), 'ro')\n",
        "\n",
        "\n",
        "plt.grid()\n",
        "plt.show()\n"
      ],
      "metadata": {
        "colab": {
          "base_uri": "https://localhost:8080/",
          "height": 377
        },
        "id": "Bl7dAkCvPxAI",
        "outputId": "bc1f43f5-024d-440a-d970-00e130f606cc"
      },
      "execution_count": null,
      "outputs": [
        {
          "output_type": "display_data",
          "data": {
            "text/plain": [
              "<Figure size 720x432 with 1 Axes>"
            ],
            "image/png": "[encoded data removed]"
          },
          "metadata": {
            "needs_background": "light"
          }
        }
      ]
    },
    {
      "cell_type": "markdown",
      "source": [
        "## example - находим стороны коробки"
      ],
      "metadata": {
        "id": "Adlo3Y8KSKjh"
      }
    },
    {
      "cell_type": "code",
      "source": [
        "def S(a):\n",
        "  return a**2 + 8/a"
      ],
      "metadata": {
        "id": "15feCQ1xSJsE"
      },
      "execution_count": null,
      "outputs": []
    },
    {
      "cell_type": "code",
      "source": [
        "x = np.linspace(0, 10, 200)"
      ],
      "metadata": {
        "id": "IKPwU2TzSwOe"
      },
      "execution_count": null,
      "outputs": []
    },
    {
      "cell_type": "code",
      "source": [
        "plt.rcParams['figure.figsize'] = (10, 6)\n",
        "plt.plot(x, S(x))\n",
        "\n",
        "plt.grid()\n",
        "plt.show();"
      ],
      "metadata": {
        "colab": {
          "base_uri": "https://localhost:8080/",
          "height": 410
        },
        "id": "5G687dgsSkYp",
        "outputId": "8bbcd609-4929-445f-ca81-e0e5491a20f2"
      },
      "execution_count": null,
      "outputs": [
        {
          "output_type": "stream",
          "name": "stderr",
          "text": [
            "<ipython-input-27-eb07d4885b30>:2: RuntimeWarning: divide by zero encountered in true_divide\n",
            "  return a**2 + 8/a\n"
          ]
        },
        {
          "output_type": "display_data",
          "data": {
            "text/plain": [
              "<Figure size 720x432 with 1 Axes>"
            ],
            "image/png": "[encoded data removed]"
          },
          "metadata": {
            "needs_background": "light"
          }
        }
      ]
    },
    {
      "cell_type": "code",
      "source": [
        "result = minimize_scalar(S, bounds= (0.0000001, 200), method='Bounded')\n",
        "result"
      ],
      "metadata": {
        "colab": {
          "base_uri": "https://localhost:8080/"
        },
        "id": "lIYb7leoTcFx",
        "outputId": "fa49e069-b683-441d-fc69-d6e075e61068"
      },
      "execution_count": null,
      "outputs": [
        {
          "output_type": "execute_result",
          "data": {
            "text/plain": [
              "     fun: 7.55952629937343\n",
              " message: 'Solution found.'\n",
              "    nfev: 20\n",
              "  status: 0\n",
              " success: True\n",
              "       x: 1.5873998700120917"
            ]
          },
          "metadata": {},
          "execution_count": 30
        }
      ]
    },
    {
      "cell_type": "code",
      "source": [
        "plt.rcParams['figure.figsize'] = (10, 6)\n",
        "plt.plot(x, S(x))\n",
        "plt.plot(result['x'], S(result['x']), 'ro')\n",
        "\n",
        "plt.grid()\n",
        "plt.show();"
      ],
      "metadata": {
        "colab": {
          "base_uri": "https://localhost:8080/",
          "height": 410
        },
        "id": "TnMV3_bbUSoo",
        "outputId": "b66b43c5-2052-46b2-a157-124c698b8824"
      },
      "execution_count": null,
      "outputs": [
        {
          "output_type": "stream",
          "name": "stderr",
          "text": [
            "<ipython-input-27-eb07d4885b30>:2: RuntimeWarning: divide by zero encountered in true_divide\n",
            "  return a**2 + 8/a\n"
          ]
        },
        {
          "output_type": "display_data",
          "data": {
            "text/plain": [
              "<Figure size 720x432 with 1 Axes>"
            ],
            "image/png": "[encoded data removed]"
          },
          "metadata": {
            "needs_background": "light"
          }
        }
      ]
    },
    {
      "cell_type": "markdown",
      "source": [
        "## Оптимизатор minimize"
      ],
      "metadata": {
        "id": "w_ti69uDU5mo"
      }
    },
    {
      "cell_type": "code",
      "source": [
        "result = minimize(S, 4)"
      ],
      "metadata": {
        "id": "OiwV4T5WU5Zp"
      },
      "execution_count": null,
      "outputs": []
    },
    {
      "cell_type": "code",
      "source": [
        "# type(result['x'][0])\n",
        "result['x']"
      ],
      "metadata": {
        "colab": {
          "base_uri": "https://localhost:8080/"
        },
        "id": "x-4CmQRsZuPU",
        "outputId": "7b9ef087-e42c-4092-e17b-a281295f40c6"
      },
      "execution_count": null,
      "outputs": [
        {
          "output_type": "execute_result",
          "data": {
            "text/plain": [
              "array([1.58740109])"
            ]
          },
          "metadata": {},
          "execution_count": 33
        }
      ]
    },
    {
      "cell_type": "code",
      "source": [
        "def square(x):\n",
        "  a = x[0]\n",
        "  b = x[1]\n",
        "  return a*a + 4*a*b"
      ],
      "metadata": {
        "id": "TuGZbk_AaVHf"
      },
      "execution_count": null,
      "outputs": []
    },
    {
      "cell_type": "code",
      "source": [
        "def constraint(x):\n",
        "  a, b = x\n",
        "  return a*a*b -2"
      ],
      "metadata": {
        "id": "Fk6e0U7Ga6X3"
      },
      "execution_count": null,
      "outputs": []
    },
    {
      "cell_type": "code",
      "source": [
        "b = (0,200)\n",
        "bnds = (b, b)\n",
        "cons = ({'type':'eq', 'fun': constraint})"
      ],
      "metadata": {
        "id": "PylgzTC9byK-"
      },
      "execution_count": null,
      "outputs": []
    },
    {
      "cell_type": "code",
      "source": [
        "minimize(square, [4, 4], bounds=bnds, constraints=cons )"
      ],
      "metadata": {
        "colab": {
          "base_uri": "https://localhost:8080/"
        },
        "id": "57xxU4LEctwi",
        "outputId": "ad4cbf48-1d1e-413b-b4dc-4001eff85f19"
      },
      "execution_count": null,
      "outputs": [
        {
          "output_type": "execute_result",
          "data": {
            "text/plain": [
              "     fun: 7.559525855198252\n",
              "     jac: array([6.349603  , 6.34960604])\n",
              " message: 'Optimization terminated successfully'\n",
              "    nfev: 124\n",
              "     nit: 34\n",
              "    njev: 33\n",
              "  status: 0\n",
              " success: True\n",
              "       x: array([1.58740151, 0.7937    ])"
            ]
          },
          "metadata": {},
          "execution_count": 37
        }
      ]
    },
    {
      "cell_type": "markdown",
      "source": [
        "## оптимизация функции "
      ],
      "metadata": {
        "id": "xxfyYa_v53Gu"
      }
    },
    {
      "cell_type": "code",
      "source": [
        "def fun(args):\n",
        "  x1, x2, x3, x4 = args\n",
        "  return x1*x4*(x1+x2+x3)+x3"
      ],
      "metadata": {
        "id": "6yiYOR4C52rl"
      },
      "execution_count": null,
      "outputs": []
    },
    {
      "cell_type": "code",
      "source": [
        "b=(1,5)\n",
        "bnds = (b,b,b,b)"
      ],
      "metadata": {
        "id": "BUaCQiPcCBZJ"
      },
      "execution_count": null,
      "outputs": []
    },
    {
      "cell_type": "code",
      "source": [
        "def cons_1(args):\n",
        "  x1, x2, x3, x4 = args\n",
        "\n",
        "  return x1 * x2 * x3 * x4 - 25\n",
        "\n",
        "def cons_2(args):\n",
        "\n",
        "  sum = -40\n",
        "  for el in args:\n",
        "    sum = sum + el*el\n",
        "\n",
        "  return sum\n",
        "\n",
        "cons = ({'type':'ineq', 'fun' : cons_1},\n",
        "        {'type':'eq', 'fun' : cons_2})"
      ],
      "metadata": {
        "id": "_svJJWJpLuAc"
      },
      "execution_count": null,
      "outputs": []
    },
    {
      "cell_type": "code",
      "source": [
        "x0 = [1,5,5,1]\n",
        "res = minimize(fun, x0, bounds=bnds, constraints=cons)\n",
        "res"
      ],
      "metadata": {
        "colab": {
          "base_uri": "https://localhost:8080/"
        },
        "id": "JGvmMnNENK7Y",
        "outputId": "87bd1eeb-64f4-444e-c538-b26fb7587cc5"
      },
      "execution_count": null,
      "outputs": [
        {
          "output_type": "execute_result",
          "data": {
            "text/plain": [
              "     fun: 17.01401724563517\n",
              "     jac: array([14.57227015,  1.37940764,  2.37940764,  9.56415057])\n",
              " message: 'Optimization terminated successfully'\n",
              "    nfev: 25\n",
              "     nit: 5\n",
              "    njev: 5\n",
              "  status: 0\n",
              " success: True\n",
              "       x: array([1.        , 4.7429961 , 3.82115462, 1.37940765])"
            ]
          },
          "metadata": {},
          "execution_count": 51
        }
      ]
    },
    {
      "cell_type": "code",
      "source": [
        "cons_2(res['x'])"
      ],
      "metadata": {
        "colab": {
          "base_uri": "https://localhost:8080/"
        },
        "id": "8kTpzfZGPwKL",
        "outputId": "cf96d4ef-f171-445c-865c-10f8a72bba4f"
      },
      "execution_count": null,
      "outputs": [
        {
          "output_type": "execute_result",
          "data": {
            "text/plain": [
              "8.2353237118582e-08"
            ]
          },
          "metadata": {},
          "execution_count": 52
        }
      ]
    },
    {
      "cell_type": "markdown",
      "source": [
        "## метод найменьших квадратов"
      ],
      "metadata": {
        "id": "gS2H762GPduv"
      }
    },
    {
      "cell_type": "code",
      "source": [
        "t = np.array([1, 2, 3, 4, 5, 6, 7, 8])\n",
        "y = np.array([23, 17, 17, 16, 15, 14, 17, 20])\n",
        "\n",
        "def parabola(t, a, b, c):\n",
        "    return a * pow(t, 2) + b * t + c\n",
        "\n",
        "def diff(p, y, t):\n",
        "    a, b, c = p\n",
        "    return y - parabola(t, a, b, c)\n",
        "\n",
        "p0 = (1, 3, 4)\n",
        "aprx, _ = leastsq(diff, p0, args=(y, t))\n"
      ],
      "metadata": {
        "id": "NsuTkPyEPp_p"
      },
      "execution_count": null,
      "outputs": []
    },
    {
      "cell_type": "code",
      "source": [
        "aprx"
      ],
      "metadata": {
        "colab": {
          "base_uri": "https://localhost:8080/"
        },
        "id": "aN2PlkkUWiOu",
        "outputId": "82857c34-63f8-43eb-b717-b0f4b87f400c"
      },
      "execution_count": null,
      "outputs": [
        {
          "output_type": "execute_result",
          "data": {
            "text/plain": [
              "array([ 0.51785714, -5.0297619 , 26.80357143])"
            ]
          },
          "metadata": {},
          "execution_count": 75
        }
      ]
    },
    {
      "cell_type": "code",
      "source": [
        "plt.rcParams['figure.figsize'] = (10, 6)\n",
        "plt.plot(t, y, label='Temperature')\n",
        "plt.plot(t, parabola(t, aprx[0], aprx[1], aprx[2]), label='LS')\n",
        "\n",
        "\n",
        "plt.grid()\n",
        "plt.legend()\n",
        "plt.show();"
      ],
      "metadata": {
        "colab": {
          "base_uri": "https://localhost:8080/",
          "height": 374
        },
        "id": "x9dEQCL2WFXG",
        "outputId": "5ecb5bfe-9fe6-484b-97bb-f5b15ced1120"
      },
      "execution_count": null,
      "outputs": [
        {
          "output_type": "display_data",
          "data": {
            "text/plain": [
              "<Figure size 720x432 with 1 Axes>"
            ],
            "image/png": "[encoded data removed]"
          },
          "metadata": {
            "needs_background": "light"
          }
        }
      ]
    },
    {
      "cell_type": "code",
      "source": [
        "def function(t, a, b, c):\n",
        "    return a * np.sin(t) + b * t + c\n",
        "\n",
        "def loss(p, y, t):\n",
        "    a, b, c = p\n",
        "    return y - function(t, a, b, c)\n",
        "\n",
        "p0 = (1, 3, 4)\n",
        "aprx, _ = leastsq(loss, p0, args=(y, t))"
      ],
      "metadata": {
        "id": "8I7PjOGiXrR-"
      },
      "execution_count": null,
      "outputs": []
    },
    {
      "cell_type": "code",
      "source": [
        "plt.rcParams['figure.figsize'] = (10, 6)\n",
        "plt.plot(t, y, label='Temperature')\n",
        "plt.plot(t, function(t, aprx[0], aprx[1], aprx[2]), label='LS')\n",
        "\n",
        "\n",
        "plt.grid()\n",
        "plt.legend()\n",
        "plt.show();"
      ],
      "metadata": {
        "colab": {
          "base_uri": "https://localhost:8080/",
          "height": 374
        },
        "id": "m_rjORfIYfxQ",
        "outputId": "4c6e2745-a25e-4f7a-f6e4-f8252e7b113c"
      },
      "execution_count": null,
      "outputs": [
        {
          "output_type": "display_data",
          "data": {
            "text/plain": [
              "<Figure size 720x432 with 1 Axes>"
            ],
            "image/png": "[encoded data removed]"
          },
          "metadata": {
            "needs_background": "light"
          }
        }
      ]
    },
    {
      "cell_type": "code",
      "source": [
        "def obj_function(x):\n",
        "  return 4 * pow(x, 2) + 5 * x + 9"
      ],
      "metadata": {
        "id": "o6zJhAUUY1Km"
      },
      "execution_count": null,
      "outputs": []
    },
    {
      "cell_type": "code",
      "source": [
        "x = np.linspace(-10, 10, 20)\n",
        "aprx, _ = leastsq(diff, p0, args=(obj_function(x), x))\n",
        "aprx"
      ],
      "metadata": {
        "colab": {
          "base_uri": "https://localhost:8080/"
        },
        "id": "r8zw97IiZ6qw",
        "outputId": "707d84aa-713c-4b9c-90c6-95f31424fbb0"
      },
      "execution_count": null,
      "outputs": [
        {
          "output_type": "execute_result",
          "data": {
            "text/plain": [
              "array([4., 5., 9.])"
            ]
          },
          "metadata": {},
          "execution_count": 105
        }
      ]
    },
    {
      "cell_type": "code",
      "source": [
        "plt.plot(x, obj_function(x), label='test')\n",
        "\n",
        "# x_p = aprx[0] * x ** 2 + aprx[1] * x + aprx[2]\n",
        "# plt.plot(x, obj_function(x_p), label='test-2')\n",
        "\n",
        "plt.grid()\n",
        "plt.legend()\n",
        "plt.show();"
      ],
      "metadata": {
        "colab": {
          "base_uri": "https://localhost:8080/",
          "height": 374
        },
        "id": "d6FjlY59ZQWK",
        "outputId": "0afcbdf3-ac7e-4314-99fb-24d055f870ac"
      },
      "execution_count": null,
      "outputs": [
        {
          "output_type": "display_data",
          "data": {
            "text/plain": [
              "<Figure size 720x432 with 1 Axes>"
            ],
            "image/png": "[encoded data removed]"
          },
          "metadata": {
            "needs_background": "light"
          }
        }
      ]
    },
    {
      "cell_type": "code",
      "source": [
        "result = curve_fit(parabola, t, y, p0)\n",
        "result"
      ],
      "metadata": {
        "colab": {
          "base_uri": "https://localhost:8080/"
        },
        "id": "8JzSL4kKdZgn",
        "outputId": "87c3f9d3-a797-432c-d1e1-22efe0e7a21f"
      },
      "execution_count": null,
      "outputs": [
        {
          "output_type": "execute_result",
          "data": {
            "text/plain": [
              "(array([ 0.51785714, -5.0297619 , 26.80357143]),\n",
              " array([[ 0.0084538 , -0.07608418,  0.12680697],\n",
              "        [-0.07608418,  0.71857285, -1.29343111],\n",
              "        [ 0.12680697, -1.29343111,  2.76439196]]))"
            ]
          },
          "metadata": {},
          "execution_count": 115
        }
      ]
    },
    {
      "cell_type": "markdown",
      "source": [
        "## решение уравненений"
      ],
      "metadata": {
        "id": "-h3qk1ydPpx4"
      }
    },
    {
      "cell_type": "code",
      "source": [
        "x = np.linspace(-5, 5, 50)\n",
        "y = x ** 2 + 3 * x - 4\n",
        "plt.grid()\n",
        "plt.plot(x, y, color='r')\n",
        "plt.axhline(linewidth=1, color='g')\n",
        "plt.axvline(linewidth=1, color='b')"
      ],
      "metadata": {
        "colab": {
          "base_uri": "https://localhost:8080/",
          "height": 392
        },
        "id": "PqwpB8VKRJnu",
        "outputId": "72cefc89-a1db-4e07-90bd-90224207b7c4"
      },
      "execution_count": null,
      "outputs": [
        {
          "output_type": "execute_result",
          "data": {
            "text/plain": [
              "<matplotlib.lines.Line2D at 0x7f74c32154f0>"
            ]
          },
          "metadata": {},
          "execution_count": 119
        },
        {
          "output_type": "display_data",
          "data": {
            "text/plain": [
              "<Figure size 720x432 with 1 Axes>"
            ],
            "image/png": "[encoded data removed]"
          },
          "metadata": {
            "needs_background": "light"
          }
        }
      ]
    },
    {
      "cell_type": "code",
      "source": [
        "def f(x):\n",
        "  return x**2 +3*x-4\n",
        "\n",
        "brentq(f, 0, 2)  # -4"
      ],
      "metadata": {
        "colab": {
          "base_uri": "https://localhost:8080/"
        },
        "id": "n8vWXyeJgfzx",
        "outputId": "72ddd841-ac1e-44c2-9973-2959d6b9bc93"
      },
      "execution_count": null,
      "outputs": [
        {
          "output_type": "execute_result",
          "data": {
            "text/plain": [
              "0.9999999999999999"
            ]
          },
          "metadata": {},
          "execution_count": 128
        }
      ]
    },
    {
      "cell_type": "markdown",
      "source": [
        "# TASK 1"
      ],
      "metadata": {
        "id": "DZ_t_RxG3Qzt"
      }
    },
    {
      "cell_type": "markdown",
      "source": [
        "Для прямоугольной области площадью 1000 м2, примыкающей к прямому участку реки, необходимо построить ограду (причем со стороны реки ограду строить не нужно). При каких размерах области a, b длина ограды будет минимальной? Используйте функцию minimize с параметрами ограничениями bounds и constraints"
      ],
      "metadata": {
        "id": "_CjfImbi3N5O"
      }
    },
    {
      "cell_type": "code",
      "source": [
        "def fence_length(args):\n",
        "  a,b = args\n",
        "  return 2*a + b\n",
        "\n",
        "def constraint(args):\n",
        "    a,b = args\n",
        "    return a*b - 1000"
      ],
      "metadata": {
        "id": "CRXlx70S3USU"
      },
      "execution_count": null,
      "outputs": []
    },
    {
      "cell_type": "code",
      "source": [
        "\n",
        "xbounds = (0, 1000)\n",
        "ybounds = (0, 1000)\n",
        "bounds = (xbounds, ybounds)\n",
        "result = minimize(fence_length, np.array([1000, 1]), bounds=bounds, constraints={'type': 'ineq', 'fun': constraint})\n",
        "result"
      ],
      "metadata": {
        "colab": {
          "base_uri": "https://localhost:8080/"
        },
        "id": "i9x2nPEu39Qu",
        "outputId": "99e838c9-ca7a-4820-b933-c945ed9f4d31"
      },
      "execution_count": null,
      "outputs": [
        {
          "output_type": "execute_result",
          "data": {
            "text/plain": [
              "     fun: 89.44271938260809\n",
              "     jac: array([2., 1.])\n",
              " message: 'Optimization terminated successfully'\n",
              "    nfev: 61\n",
              "     nit: 21\n",
              "    njev: 20\n",
              "  status: 0\n",
              " success: True\n",
              "       x: array([22.35890114, 44.72491711])"
            ]
          },
          "metadata": {},
          "execution_count": 27
        }
      ]
    },
    {
      "cell_type": "code",
      "source": [
        "# s = 22.35890114 * 44.72491711\n",
        "# p = (22.35890114 + 44.72491711)*2 - 44.72491711\n",
        "# p"
      ],
      "metadata": {
        "colab": {
          "base_uri": "https://localhost:8080/"
        },
        "id": "DpwqeK2qKE1P",
        "outputId": "3ebfa7f7-43eb-4489-98c7-c4015193df68"
      },
      "execution_count": null,
      "outputs": [
        {
          "output_type": "execute_result",
          "data": {
            "text/plain": [
              "89.44271939000001"
            ]
          },
          "metadata": {},
          "execution_count": 31
        }
      ]
    },
    {
      "cell_type": "markdown",
      "source": [
        "# TASK 2"
      ],
      "metadata": {
        "id": "PuWX4B9EKsZC"
      }
    },
    {
      "cell_type": "markdown",
      "source": [
        "Во вторая части прошлого домашнего задания мы решали дифференциальные уравнения и строили графики. Продолжаем работать над этой домашней работой дальше.\n",
        "\n",
        "Необходимо методом наименьших квадратов:\n",
        "\n",
        "для набора данных графика функции S(t) получить уравнение вида S(t)=S0e^ -at\n",
        " \n",
        "для набора данных графика функции I(t) получить уравнение вида I(t)= (I0+αS0t)e^ -at\n",
        "\n",
        "Для уравнения R(t) график функции будет R(t)=N−S(t)−I(t)\n",
        "\n",
        "Построить все три графика S(t), I(t) и R(t) на одной области отображения полученные методом наименьших квадратов\n",
        "\n",
        "Найти время t max при котором число инфекционных индивидов максимально. \n",
        "Надо с помощью метода minimize_scalar найти когда функция I(t) достигает своего максимума."
      ],
      "metadata": {
        "id": "Y1RjV9XbKxN0"
      }
    },
    {
      "cell_type": "code",
      "source": [],
      "metadata": {
        "colab": {
          "base_uri": "https://localhost:8080/"
        },
        "id": "UJGzo37iKxAS",
        "outputId": "0a470ced-93a1-4434-9854-0652ccec9682"
      },
      "execution_count": null,
      "outputs": [
        {
          "output_type": "execute_result",
          "data": {
            "text/plain": [
              "array([1, 5])"
            ]
          },
          "metadata": {},
          "execution_count": 33
        }
      ]
    }
  ]
}