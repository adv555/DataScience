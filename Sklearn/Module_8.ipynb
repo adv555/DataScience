{
  "nbformat": 4,
  "nbformat_minor": 0,
  "metadata": {
    "colab": {
      "provenance": [],
      "authorship_tag": "ABX9TyPIN7JFkUMtMrPPNpQIoujI",
      "include_colab_link": true
    },
    "kernelspec": {
      "name": "python3",
      "display_name": "Python 3"
    },
    "language_info": {
      "name": "python"
    }
  },
  "cells": [
    {
      "cell_type": "markdown",
      "metadata": {
        "id": "view-in-github",
        "colab_type": "text"
      },
      "source": [
        "<a href=\"https://colab.research.google.com/github/adv555/DataScience/blob/main/Sklearn/Module_8.ipynb\" target=\"_parent\"><img src=\"https://colab.research.google.com/assets/colab-badge.svg\" alt=\"Open In Colab\"/></a>"
      ]
    },
    {
      "cell_type": "code",
      "execution_count": 229,
      "metadata": {
        "colab": {
          "base_uri": "https://localhost:8080/"
        },
        "id": "P9IOGL95C_1m",
        "outputId": "1364614a-abc4-49cc-b4bf-0950cfcd9433"
      },
      "outputs": [
        {
          "output_type": "stream",
          "name": "stdout",
          "text": [
            "Mounted at /content/gdrive\n"
          ]
        }
      ],
      "source": [
        "from google.colab import drive\n",
        "drive.mount('/content/gdrive', force_remount=True)"
      ]
    },
    {
      "cell_type": "code",
      "source": [
        "data_path = '/content/gdrive/MyDrive/Data Science/HW-7'"
      ],
      "metadata": {
        "id": "VqGXK64jDqk8"
      },
      "execution_count": 230,
      "outputs": []
    },
    {
      "cell_type": "code",
      "source": [
        "data_path"
      ],
      "metadata": {
        "colab": {
          "base_uri": "https://localhost:8080/",
          "height": 35
        },
        "id": "YhJtpZEqEVDK",
        "outputId": "53100209-b69c-41df-8c9c-cf6f45fcf13e"
      },
      "execution_count": 231,
      "outputs": [
        {
          "output_type": "execute_result",
          "data": {
            "text/plain": [
              "'/content/gdrive/MyDrive/Data Science/HW-7'"
            ],
            "application/vnd.google.colaboratory.intrinsic+json": {
              "type": "string"
            }
          },
          "metadata": {},
          "execution_count": 231
        }
      ]
    },
    {
      "cell_type": "markdown",
      "source": [
        "# Helper functions"
      ],
      "metadata": {
        "id": "ouk17kjrFfhv"
      }
    },
    {
      "cell_type": "code",
      "source": [
        "import numpy as np\n",
        "import matplotlib.pyplot as plt\n",
        "\n",
        "def load_data(filename):\n",
        "  data = np.loadtxt(filename, delimiter=',')\n",
        "  X = data[:,:2]\n",
        "  y = data[:,2]\n",
        "  \n",
        "  return X, y\n",
        "\n",
        "def plot_data(X, y, pos_label='y=1', neg_label='y=0'):\n",
        "  positive = y == 1\n",
        "  negative = y == 0\n",
        "\n",
        "  # Plot example\n",
        "  plt.plot(X[positive, 0], X[positive, 1], 'k+', label=pos_label)\n",
        "  plt.plot(X[negative, 0], X[negative, 1], 'yo', label=neg_label)\n",
        "\n",
        "\n",
        "def plot_decision_boundery(weights, X, y, degree):\n",
        "  u = np.linspace(20, 120, 100)\n",
        "  v = np.linspace(20, 120, 100)\n",
        "\n",
        "  decision_boundery = np.zeros((u.size, v.size))\n",
        "\n",
        "  # Evaluate z = theta*x over the grid\n",
        "  for i in range(0, u.size):\n",
        "    for j in range(0, v.size):\n",
        "      decision_boundery[i, j] = np.dot(map_feature(u[i], v[j], degree), weights)\n",
        "\n",
        "  decision_boundery = decision_boundery.T\n",
        "\n",
        "  # Plot z = 0\n",
        "  # Notice you need to specify the range [0, 0]\n",
        "\n",
        "  cs = plt.contour(u, v, decision_boundery, levels=[0], colors='r')\n",
        "  cs.collections[0].set_label('Decision Boundary')\n",
        "\n"
      ],
      "metadata": {
        "id": "wW3_f8I4EhNl"
      },
      "execution_count": 232,
      "outputs": []
    },
    {
      "cell_type": "markdown",
      "source": [
        "# Browsing Dataset"
      ],
      "metadata": {
        "id": "jZ9JMfRKIqXY"
      }
    },
    {
      "cell_type": "code",
      "source": [
        "X, y = load_data(data_path + '/data.txt')"
      ],
      "metadata": {
        "id": "v2yUXmYGI84h"
      },
      "execution_count": 233,
      "outputs": []
    },
    {
      "cell_type": "code",
      "source": [
        "# Plot examples\n",
        "plt.figure(figsize=(8,8))\n",
        "plot_data(X,y)\n",
        "\n",
        "plt.xlabel('Test1')\n",
        "plt.ylabel('Test2')\n",
        "plt.legend(loc='upper right')\n",
        "plt.show()"
      ],
      "metadata": {
        "colab": {
          "base_uri": "https://localhost:8080/",
          "height": 497
        },
        "id": "R2WzBlnxJOiL",
        "outputId": "58c61c45-0e81-422d-f856-4fe734b6e88c"
      },
      "execution_count": 234,
      "outputs": [
        {
          "output_type": "display_data",
          "data": {
            "text/plain": [
              "<Figure size 576x576 with 1 Axes>"
            ],
            "image/png": "[encoded data removed]"
          },
          "metadata": {
            "needs_background": "light"
          }
        }
      ]
    },
    {
      "cell_type": "markdown",
      "source": [
        "# Overfitting/Underfitting (Variance/Bias)"
      ],
      "metadata": {
        "id": "MisY_8IR8g4y"
      }
    },
    {
      "cell_type": "code",
      "source": [
        "from sklearn.linear_model import LogisticRegression\n",
        "from sklearn.model_selection import train_test_split"
      ],
      "metadata": {
        "id": "RXwr39oo-JZE"
      },
      "execution_count": 235,
      "outputs": []
    },
    {
      "cell_type": "code",
      "source": [
        "classifier = LogisticRegression(penalty='none', fit_intercept = False, max_iter=1000)"
      ],
      "metadata": {
        "id": "gxJhi7mL-tE5"
      },
      "execution_count": 236,
      "outputs": []
    },
    {
      "cell_type": "markdown",
      "source": [
        "$$x_1x_2,  x_1^2,  x_2^2, ..$$"
      ],
      "metadata": {
        "id": "hxQRLSlT_Nvy"
      }
    },
    {
      "cell_type": "code",
      "source": [
        "def map_feature(x1, x2, degree):\n",
        "\n",
        "  x1 = x1.reshape((x1.size, 1))\n",
        "  x2 = x2.reshape((x2.size, 1))\n",
        "  result = np.ones(x1[:, 0].shape)\n",
        "\n",
        "  for i in range(1, degree + 1):\n",
        "    for j in range(0, i + 1):\n",
        "      result = np.c_[result, (x1**(i-j)) * (x2**j)]\n",
        "\n",
        "  return result"
      ],
      "metadata": {
        "id": "11gdhqkk8gi7"
      },
      "execution_count": 237,
      "outputs": []
    },
    {
      "cell_type": "code",
      "source": [
        "DEGREE = 3\n",
        "\n",
        "map_X = map_feature(X[:,0], X[:,1], DEGREE)"
      ],
      "metadata": {
        "id": "d-kxKTfEBMh4"
      },
      "execution_count": 238,
      "outputs": []
    },
    {
      "cell_type": "code",
      "source": [
        "map_X.shape"
      ],
      "metadata": {
        "colab": {
          "base_uri": "https://localhost:8080/"
        },
        "id": "SVFwnDkbBnWf",
        "outputId": "434b1884-38e7-4bd0-a4a3-7a1c519f5de2"
      },
      "execution_count": 239,
      "outputs": [
        {
          "output_type": "execute_result",
          "data": {
            "text/plain": [
              "(100, 10)"
            ]
          },
          "metadata": {},
          "execution_count": 239
        }
      ]
    },
    {
      "cell_type": "code",
      "source": [
        "map_X[0]"
      ],
      "metadata": {
        "colab": {
          "base_uri": "https://localhost:8080/"
        },
        "id": "skc9n4odCYPb",
        "outputId": "4eac6263-4a88-477d-edbe-6a55faf9a72b"
      },
      "execution_count": 240,
      "outputs": [
        {
          "output_type": "execute_result",
          "data": {
            "text/plain": [
              "array([1.00000000e+00, 3.46236596e+01, 7.80246928e+01, 1.19879781e+03,\n",
              "       2.70150041e+03, 6.08785269e+03, 4.15067672e+04, 9.35358305e+04,\n",
              "       2.10783739e+05, 4.75002836e+05])"
            ]
          },
          "metadata": {},
          "execution_count": 240
        }
      ]
    },
    {
      "cell_type": "code",
      "source": [
        "X_train, X_test, y_train, y_test = train_test_split(\n",
        "map_X, y, test_size=0.20, random_state=42)"
      ],
      "metadata": {
        "id": "rnnL3c_iC6Jf"
      },
      "execution_count": 241,
      "outputs": []
    },
    {
      "cell_type": "code",
      "source": [
        "classifier.fit(X_train, y_train)"
      ],
      "metadata": {
        "colab": {
          "base_uri": "https://localhost:8080/"
        },
        "id": "yCdJhnTnDGsp",
        "outputId": "e1231869-b49d-4c62-89bb-965815a658c4"
      },
      "execution_count": 242,
      "outputs": [
        {
          "output_type": "execute_result",
          "data": {
            "text/plain": [
              "LogisticRegression(fit_intercept=False, max_iter=1000, penalty='none')"
            ]
          },
          "metadata": {},
          "execution_count": 242
        }
      ]
    },
    {
      "cell_type": "code",
      "source": [
        "# Plot examples\n",
        "plt.figure(figsize=(8,8))\n",
        "plot_data(X, y)\n",
        "\n",
        "\n",
        "plot_decision_boundery(classifier.coef_[0], X, y, DEGREE )\n",
        "\n",
        "plt.xlabel('Test1')\n",
        "plt.ylabel('Test2')\n",
        "plt.legend(loc='upper right')\n",
        "plt.show()"
      ],
      "metadata": {
        "colab": {
          "base_uri": "https://localhost:8080/",
          "height": 501
        },
        "id": "Y2ARil-5ET2b",
        "outputId": "f7f09de2-26fc-44a0-94f5-a5280002fc5d"
      },
      "execution_count": 243,
      "outputs": [
        {
          "output_type": "display_data",
          "data": {
            "text/plain": [
              "<Figure size 576x576 with 1 Axes>"
            ],
            "image/png": "[encoded data removed]"
          },
          "metadata": {
            "needs_background": "light"
          }
        }
      ]
    },
    {
      "cell_type": "code",
      "source": [
        "classifier.score(X_train, y_train)"
      ],
      "metadata": {
        "colab": {
          "base_uri": "https://localhost:8080/"
        },
        "id": "T5SM9vPKGrW5",
        "outputId": "c0c5e552-aac0-4ecf-ea2e-def13fe8d4f4"
      },
      "execution_count": 244,
      "outputs": [
        {
          "output_type": "execute_result",
          "data": {
            "text/plain": [
              "1.0"
            ]
          },
          "metadata": {},
          "execution_count": 244
        }
      ]
    },
    {
      "cell_type": "code",
      "source": [
        "classifier.score(X_test, y_test)"
      ],
      "metadata": {
        "colab": {
          "base_uri": "https://localhost:8080/"
        },
        "id": "D89-_3UiGD5V",
        "outputId": "0df0ef85-74da-46fa-9c2a-bde34106d62a"
      },
      "execution_count": 245,
      "outputs": [
        {
          "output_type": "execute_result",
          "data": {
            "text/plain": [
              "1.0"
            ]
          },
          "metadata": {},
          "execution_count": 245
        }
      ]
    },
    {
      "cell_type": "code",
      "source": [
        "DEGREE = 6\n",
        "\n",
        "map_X = map_feature(X[:,0], X[:,1], DEGREE)\n",
        "\n",
        "X_train, X_test, y_train, y_test = train_test_split(\n",
        "map_X, y, test_size=0.20, random_state=42)\n",
        "\n",
        "\n",
        "classifier = LogisticRegression(penalty='none', fit_intercept = False, max_iter=5000)\n",
        "\n",
        "classifier.fit(X_train, y_train)\n",
        "\n",
        "# Plot examples\n",
        "plt.figure(figsize=(8,8))\n",
        "plot_data(X, y)\n",
        "\n",
        "\n",
        "plot_decision_boundery(classifier.coef_[0], X, y, DEGREE )\n",
        "\n",
        "plt.xlabel('Test1')\n",
        "plt.ylabel('Test2')\n",
        "plt.legend(loc='upper right')\n",
        "plt.show()"
      ],
      "metadata": {
        "colab": {
          "base_uri": "https://localhost:8080/",
          "height": 501
        },
        "id": "WDHXYcaMG503",
        "outputId": "493f20c8-40f5-41a3-b12f-ca2b06fe473e"
      },
      "execution_count": 246,
      "outputs": [
        {
          "output_type": "display_data",
          "data": {
            "text/plain": [
              "<Figure size 576x576 with 1 Axes>"
            ],
            "image/png": "[encoded data removed]"
          },
          "metadata": {
            "needs_background": "light"
          }
        }
      ]
    },
    {
      "cell_type": "code",
      "source": [
        "classifier.score(X_train, y_train)"
      ],
      "metadata": {
        "colab": {
          "base_uri": "https://localhost:8080/"
        },
        "id": "RjCH4PkVJJWB",
        "outputId": "e73a15fe-e02f-4998-c2fd-fa6e4d4911af"
      },
      "execution_count": 247,
      "outputs": [
        {
          "output_type": "execute_result",
          "data": {
            "text/plain": [
              "1.0"
            ]
          },
          "metadata": {},
          "execution_count": 247
        }
      ]
    },
    {
      "cell_type": "code",
      "source": [
        "classifier.score(X_test, y_test)"
      ],
      "metadata": {
        "colab": {
          "base_uri": "https://localhost:8080/"
        },
        "id": "-WZKz-WpJJ4a",
        "outputId": "1ff2e10a-2de3-41a4-e60a-f53d2e3f1a3d"
      },
      "execution_count": 248,
      "outputs": [
        {
          "output_type": "execute_result",
          "data": {
            "text/plain": [
              "1.0"
            ]
          },
          "metadata": {},
          "execution_count": 248
        }
      ]
    },
    {
      "cell_type": "markdown",
      "source": [
        "# Regularization"
      ],
      "metadata": {
        "id": "r1gcN0c0J96T"
      }
    },
    {
      "cell_type": "code",
      "source": [
        "DEGREE = 6\n",
        "\n",
        "map_X = map_feature(X[:,0], X[:,1], DEGREE)\n",
        "\n",
        "X_train, X_test, y_train, y_test = train_test_split(\n",
        "map_X, y, test_size=0.20, random_state=42)\n",
        "\n",
        "\n",
        "classifier = LogisticRegression(penalty='l1', fit_intercept = False, max_iter=10000, solver='saga')\n",
        "\n",
        "classifier.fit(X_train, y_train)\n",
        "\n",
        "# Plot examples\n",
        "plt.figure(figsize=(8,8))\n",
        "plot_data(X, y)\n",
        "\n",
        "\n",
        "plot_decision_boundery(classifier.coef_[0], X, y, DEGREE )\n",
        "\n",
        "plt.xlabel('Test1')\n",
        "plt.ylabel('Test2')\n",
        "plt.legend(loc='upper right')\n",
        "plt.show()"
      ],
      "metadata": {
        "colab": {
          "base_uri": "https://localhost:8080/",
          "height": 501
        },
        "id": "6UL-Iub0JyKt",
        "outputId": "694a36a2-179d-4fde-9cc3-c5eb1db2384d"
      },
      "execution_count": 249,
      "outputs": [
        {
          "output_type": "display_data",
          "data": {
            "text/plain": [
              "<Figure size 576x576 with 1 Axes>"
            ],
            "image/png": "[encoded data removed]"
          },
          "metadata": {
            "needs_background": "light"
          }
        }
      ]
    },
    {
      "cell_type": "code",
      "source": [
        "classifier.coef_"
      ],
      "metadata": {
        "colab": {
          "base_uri": "https://localhost:8080/"
        },
        "id": "nZloXRzFKirq",
        "outputId": "a4933cf6-e7b4-458c-8e53-c91f5278d3b4"
      },
      "execution_count": 250,
      "outputs": [
        {
          "output_type": "execute_result",
          "data": {
            "text/plain": [
              "array([[-4.75407802e-20, -2.40504960e-18, -2.50286105e-18,\n",
              "        -1.15055778e-16, -1.08725332e-16, -1.23563767e-16,\n",
              "        -5.46730527e-15, -4.70505908e-15, -4.88865243e-15,\n",
              "        -6.02956481e-15, -2.43379160e-13, -1.91079717e-13,\n",
              "        -1.82702086e-13, -2.06546120e-13, -2.74759254e-13,\n",
              "        -8.54207091e-12, -6.00766285e-12, -5.39959731e-12,\n",
              "        -5.68659349e-12, -6.81191658e-12, -9.82660578e-12,\n",
              "        -1.26597959e-11,  2.65800871e-11,  7.04196323e-12,\n",
              "        -8.33637858e-12, -3.09112558e-12,  1.89604302e-11,\n",
              "        -7.46151596e-12]])"
            ]
          },
          "metadata": {},
          "execution_count": 250
        }
      ]
    },
    {
      "cell_type": "code",
      "source": [
        "classifier.score(X_train, y_train)"
      ],
      "metadata": {
        "colab": {
          "base_uri": "https://localhost:8080/"
        },
        "id": "hGIb8fjcKv8X",
        "outputId": "8aa211b2-2f6f-44d7-dec2-74b5ebe6726c"
      },
      "execution_count": 251,
      "outputs": [
        {
          "output_type": "execute_result",
          "data": {
            "text/plain": [
              "0.6375"
            ]
          },
          "metadata": {},
          "execution_count": 251
        }
      ]
    },
    {
      "cell_type": "code",
      "source": [
        "classifier.score(X_test, y_test)"
      ],
      "metadata": {
        "colab": {
          "base_uri": "https://localhost:8080/"
        },
        "id": "t4vsUzgSKyXU",
        "outputId": "6ea33107-ffee-485d-b0cd-1a5cf973069b"
      },
      "execution_count": 252,
      "outputs": [
        {
          "output_type": "execute_result",
          "data": {
            "text/plain": [
              "0.65"
            ]
          },
          "metadata": {},
          "execution_count": 252
        }
      ]
    },
    {
      "cell_type": "code",
      "source": [
        "DEGREE = 6\n",
        "\n",
        "map_X = map_feature(X[:,0], X[:,1], DEGREE)\n",
        "\n",
        "X_train, X_test, y_train, y_test = train_test_split(\n",
        "map_X, y, test_size=0.20, random_state=42)\n",
        "\n",
        "\n",
        "classifier = LogisticRegression(penalty='elasticnet', fit_intercept = False, max_iter=10000, solver='saga', l1_ratio=0.5)\n",
        "\n",
        "classifier.fit(X_train, y_train)\n",
        "\n",
        "# Plot examples\n",
        "plt.figure(figsize=(8,8))\n",
        "plot_data(X, y)\n",
        "\n",
        "\n",
        "plot_decision_boundery(classifier.coef_[0], X, y, DEGREE )\n",
        "\n",
        "plt.xlabel('Test1')\n",
        "plt.ylabel('Test2')\n",
        "plt.legend(loc='upper right')\n",
        "plt.show()"
      ],
      "metadata": {
        "colab": {
          "base_uri": "https://localhost:8080/",
          "height": 501
        },
        "id": "xAcU7CRHLewL",
        "outputId": "76c1f088-6acd-4b5a-b987-6bec579f3c15"
      },
      "execution_count": 253,
      "outputs": [
        {
          "output_type": "display_data",
          "data": {
            "text/plain": [
              "<Figure size 576x576 with 1 Axes>"
            ],
            "image/png": "[encoded data removed]"
          },
          "metadata": {
            "needs_background": "light"
          }
        }
      ]
    },
    {
      "cell_type": "code",
      "source": [
        "classifier.coef_"
      ],
      "metadata": {
        "colab": {
          "base_uri": "https://localhost:8080/"
        },
        "id": "ZK3CSaGQLkhN",
        "outputId": "77610151-34cd-4420-a69c-df2bebd7b273"
      },
      "execution_count": 254,
      "outputs": [
        {
          "output_type": "execute_result",
          "data": {
            "text/plain": [
              "array([[-4.96904831e-20, -2.40917044e-18, -2.50716110e-18,\n",
              "        -1.15152467e-16, -1.08821491e-16, -1.23676635e-16,\n",
              "        -5.47172478e-15, -4.70908756e-15, -4.89301404e-15,\n",
              "        -6.03508849e-15, -2.43572153e-13, -1.91241716e-13,\n",
              "        -1.82864389e-13, -2.06735798e-13, -2.75015928e-13,\n",
              "        -8.54867871e-12, -6.01275477e-12, -5.40439206e-12,\n",
              "        -5.69183258e-12, -6.81838995e-12, -9.83594770e-12,\n",
              "        -1.26629706e-11,  2.65890058e-11,  7.04168183e-12,\n",
              "        -8.34414648e-12, -3.09603969e-12,  1.89698729e-11,\n",
              "        -7.46390483e-12]])"
            ]
          },
          "metadata": {},
          "execution_count": 254
        }
      ]
    },
    {
      "cell_type": "code",
      "source": [
        "classifier.score(X_train, y_train)"
      ],
      "metadata": {
        "colab": {
          "base_uri": "https://localhost:8080/"
        },
        "id": "U9HUFRrtLmZy",
        "outputId": "1711152d-3583-4abb-d1c5-3450451f4b75"
      },
      "execution_count": 255,
      "outputs": [
        {
          "output_type": "execute_result",
          "data": {
            "text/plain": [
              "0.6375"
            ]
          },
          "metadata": {},
          "execution_count": 255
        }
      ]
    },
    {
      "cell_type": "code",
      "source": [
        "classifier.score(X_test, y_test)"
      ],
      "metadata": {
        "colab": {
          "base_uri": "https://localhost:8080/"
        },
        "id": "xH2mv_2pLn0J",
        "outputId": "8f93d523-8ef3-4350-b06c-f1b6ebb992fe"
      },
      "execution_count": 256,
      "outputs": [
        {
          "output_type": "execute_result",
          "data": {
            "text/plain": [
              "0.65"
            ]
          },
          "metadata": {},
          "execution_count": 256
        }
      ]
    }
  ]
}