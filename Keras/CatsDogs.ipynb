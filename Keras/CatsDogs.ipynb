{
  "nbformat": 4,
  "nbformat_minor": 0,
  "metadata": {
    "colab": {
      "provenance": [],
      "mount_file_id": "1sYJk9JFKczjgVh-dgJFtm8efrNL0CRF5",
      "authorship_tag": "ABX9TyO+hKqMrvoeEAwzfg0lSARb",
      "include_colab_link": true
    },
    "kernelspec": {
      "name": "python3",
      "display_name": "Python 3"
    },
    "language_info": {
      "name": "python"
    },
    "accelerator": "GPU",
    "gpuClass": "standard"
  },
  "cells": [
    {
      "cell_type": "markdown",
      "metadata": {
        "id": "view-in-github",
        "colab_type": "text"
      },
      "source": [
        "<a href=\"https://colab.research.google.com/github/adv555/DataScience/blob/main/Keras/CatsDogs.ipynb\" target=\"_parent\"><img src=\"https://colab.research.google.com/assets/colab-badge.svg\" alt=\"Open In Colab\"/></a>"
      ]
    },
    {
      "cell_type": "code",
      "execution_count": 2,
      "metadata": {
        "id": "DQ1C6fG80v6a"
      },
      "outputs": [],
      "source": [
        "from keras import layers\n",
        "from keras import models"
      ]
    },
    {
      "cell_type": "code",
      "source": [
        "model = models.Sequential([\n",
        "    layers.Conv2D(\n",
        "        32, (3, 3), activation=\"relu\",\n",
        "        input_shape=(150, 150, 3), name='CONV1'\n",
        "    ),\n",
        "    layers.MaxPooling2D((2, 2), name='POOL1'),\n",
        "\n",
        "    layers.Conv2D(64, (3, 3), activation=\"relu\", name='CONV2'),\n",
        "    layers.MaxPooling2D((2, 2), name='POOL2'),\n",
        "\n",
        "    layers.Conv2D(128, (3, 3), activation=\"relu\", name='CONV3'),\n",
        "    layers.MaxPooling2D((2, 2), name='POOL3'),\n",
        "\n",
        "    layers.Conv2D(128, (3, 3), activation=\"relu\", name='CONV4'),\n",
        "    layers.MaxPooling2D((2, 2), name='POOL4'),\n",
        "\n",
        "    layers.Flatten(),\n",
        "    layers.Dropout(0.5),\n",
        "\n",
        "    layers.Dense(512, activation=\"relu\", name='FC1'),\n",
        "\n",
        "    layers.Dense(1, activation=\"sigmoid\", name='Prediction')\n",
        "])\n",
        "\n",
        "model.compile(\n",
        "    loss=\"binary_crossentropy\",\n",
        "    optimizer=\"rmsprop\",\n",
        "    metrics=[\"accuracy\"]\n",
        ")"
      ],
      "metadata": {
        "id": "x-3God8yHFcV"
      },
      "execution_count": 3,
      "outputs": []
    },
    {
      "cell_type": "code",
      "source": [
        "model.summary()"
      ],
      "metadata": {
        "colab": {
          "base_uri": "https://localhost:8080/"
        },
        "id": "uFqjFSxEHmz_",
        "outputId": "28a2a96d-3bf6-46e7-ba24-1c173ed4ce8a"
      },
      "execution_count": 4,
      "outputs": [
        {
          "output_type": "stream",
          "name": "stdout",
          "text": [
            "Model: \"sequential\"\n",
            "_________________________________________________________________\n",
            " Layer (type)                Output Shape              Param #   \n",
            "=================================================================\n",
            " CONV1 (Conv2D)              (None, 148, 148, 32)      896       \n",
            "                                                                 \n",
            " POOL1 (MaxPooling2D)        (None, 74, 74, 32)        0         \n",
            "                                                                 \n",
            " CONV2 (Conv2D)              (None, 72, 72, 64)        18496     \n",
            "                                                                 \n",
            " POOL2 (MaxPooling2D)        (None, 36, 36, 64)        0         \n",
            "                                                                 \n",
            " CONV3 (Conv2D)              (None, 34, 34, 128)       73856     \n",
            "                                                                 \n",
            " POOL3 (MaxPooling2D)        (None, 17, 17, 128)       0         \n",
            "                                                                 \n",
            " CONV4 (Conv2D)              (None, 15, 15, 128)       147584    \n",
            "                                                                 \n",
            " POOL4 (MaxPooling2D)        (None, 7, 7, 128)         0         \n",
            "                                                                 \n",
            " flatten (Flatten)           (None, 6272)              0         \n",
            "                                                                 \n",
            " dropout (Dropout)           (None, 6272)              0         \n",
            "                                                                 \n",
            " FC1 (Dense)                 (None, 512)               3211776   \n",
            "                                                                 \n",
            " Prediction (Dense)          (None, 1)                 513       \n",
            "                                                                 \n",
            "=================================================================\n",
            "Total params: 3,453,121\n",
            "Trainable params: 3,453,121\n",
            "Non-trainable params: 0\n",
            "_________________________________________________________________\n"
          ]
        }
      ]
    },
    {
      "cell_type": "code",
      "source": [
        "train_dir = \"/content/drive/MyDrive/Data Science/DogsCatsKaggle/prepared_train_data/train\"\n",
        "validation_dir = \"/content/drive/MyDrive/Data Science/DogsCatsKaggle/prepared_train_data/validation\""
      ],
      "metadata": {
        "id": "HY27wCHRKShs"
      },
      "execution_count": 5,
      "outputs": []
    },
    {
      "cell_type": "code",
      "source": [
        "from keras.preprocessing.image import ImageDataGenerator\n",
        "\n",
        "\n",
        "train_datagen = ImageDataGenerator(rescale=1./255)\n",
        "test_datagen = ImageDataGenerator(rescale=1./255)\n",
        "\n",
        "train_generator = train_datagen.flow_from_directory(\n",
        "    train_dir,\n",
        "    target_size=(150, 150),\n",
        "    batch_size=20,\n",
        "    class_mode=\"binary\"\n",
        ")\n",
        "\n",
        "validation_generator = test_datagen.flow_from_directory(\n",
        "    validation_dir,\n",
        "    target_size=(150, 150),\n",
        "    batch_size=20,\n",
        "    class_mode=\"binary\"\n",
        ")"
      ],
      "metadata": {
        "colab": {
          "base_uri": "https://localhost:8080/"
        },
        "id": "si33VlfqKqaE",
        "outputId": "25eb3cf6-1a8e-41ab-ed5b-b5413d213c4e"
      },
      "execution_count": 6,
      "outputs": [
        {
          "output_type": "stream",
          "name": "stdout",
          "text": [
            "Found 2000 images belonging to 2 classes.\n",
            "Found 1000 images belonging to 2 classes.\n"
          ]
        }
      ]
    },
    {
      "cell_type": "code",
      "source": [
        "res = next(train_generator)"
      ],
      "metadata": {
        "id": "ceEKU_S9MsN7"
      },
      "execution_count": 7,
      "outputs": []
    },
    {
      "cell_type": "code",
      "source": [
        "res[0].shape"
      ],
      "metadata": {
        "colab": {
          "base_uri": "https://localhost:8080/"
        },
        "id": "hdy-aq5xMx5O",
        "outputId": "986733e6-5f35-40b2-ec12-93e4236600ba"
      },
      "execution_count": 8,
      "outputs": [
        {
          "output_type": "execute_result",
          "data": {
            "text/plain": [
              "(20, 150, 150, 3)"
            ]
          },
          "metadata": {},
          "execution_count": 8
        }
      ]
    },
    {
      "cell_type": "code",
      "source": [
        "res[1]"
      ],
      "metadata": {
        "colab": {
          "base_uri": "https://localhost:8080/"
        },
        "id": "H4lqEt1kNT62",
        "outputId": "63e6e144-f138-4648-8853-dd74d647bb73"
      },
      "execution_count": 9,
      "outputs": [
        {
          "output_type": "execute_result",
          "data": {
            "text/plain": [
              "array([0., 1., 0., 1., 1., 0., 0., 0., 1., 0., 0., 0., 1., 1., 1., 1., 1.,\n",
              "       0., 1., 1.], dtype=float32)"
            ]
          },
          "metadata": {},
          "execution_count": 9
        }
      ]
    },
    {
      "cell_type": "code",
      "source": [
        "import tensorflow as tf\n",
        "from tensorflow.python.client import device_lib\n",
        "\n",
        "print(device_lib.list_local_devices())"
      ],
      "metadata": {
        "colab": {
          "base_uri": "https://localhost:8080/"
        },
        "id": "aZs9izLyN1am",
        "outputId": "adea2fd1-df62-49ff-ca9e-a2dae9e5cb92"
      },
      "execution_count": 10,
      "outputs": [
        {
          "output_type": "stream",
          "name": "stdout",
          "text": [
            "[name: \"/device:CPU:0\"\n",
            "device_type: \"CPU\"\n",
            "memory_limit: 268435456\n",
            "locality {\n",
            "}\n",
            "incarnation: 1131361688550500263\n",
            "xla_global_id: -1\n",
            ", name: \"/device:GPU:0\"\n",
            "device_type: \"GPU\"\n",
            "memory_limit: 14391508992\n",
            "locality {\n",
            "  bus_id: 1\n",
            "  links {\n",
            "  }\n",
            "}\n",
            "incarnation: 14231934823179019492\n",
            "physical_device_desc: \"device: 0, name: Tesla T4, pci bus id: 0000:00:04.0, compute capability: 7.5\"\n",
            "xla_global_id: 416903419\n",
            "]\n"
          ]
        }
      ]
    },
    {
      "cell_type": "code",
      "source": [
        "print(\"Num GPUs Available: \", len(tf.config.experimental.list_physical_devices('GPU')))\n",
        "tf.debugging.set_log_device_placement(True)"
      ],
      "metadata": {
        "colab": {
          "base_uri": "https://localhost:8080/"
        },
        "id": "4NlGzBJPO5-8",
        "outputId": "ed400d5c-8b28-4d44-a1de-e4665450e6db"
      },
      "execution_count": 11,
      "outputs": [
        {
          "output_type": "stream",
          "name": "stdout",
          "text": [
            "Num GPUs Available:  1\n"
          ]
        }
      ]
    },
    {
      "cell_type": "code",
      "source": [
        "history = model.fit(\n",
        "    train_generator,\n",
        "    steps_per_epoch=50,\n",
        "    epochs=30,\n",
        "    validation_data=validation_generator,\n",
        "    validation_steps=50\n",
        ")"
      ],
      "metadata": {
        "colab": {
          "base_uri": "https://localhost:8080/"
        },
        "id": "tEIzdWeKNlYz",
        "outputId": "8f27e1cb-31f3-4eb7-f897-0a0b1d1648c3"
      },
      "execution_count": 12,
      "outputs": [
        {
          "output_type": "stream",
          "name": "stdout",
          "text": [
            "Epoch 1/30\n",
            "50/50 [==============================] - 100s 2s/step - loss: 0.7188 - accuracy: 0.5340 - val_loss: 0.6946 - val_accuracy: 0.5000\n",
            "Epoch 2/30\n",
            "50/50 [==============================] - 10s 197ms/step - loss: 0.6956 - accuracy: 0.4970 - val_loss: 0.6921 - val_accuracy: 0.5000\n",
            "Epoch 3/30\n",
            "50/50 [==============================] - 9s 190ms/step - loss: 0.7018 - accuracy: 0.5100 - val_loss: 0.6878 - val_accuracy: 0.5080\n",
            "Epoch 4/30\n",
            "50/50 [==============================] - 9s 172ms/step - loss: 0.6931 - accuracy: 0.5630 - val_loss: 0.6697 - val_accuracy: 0.6430\n",
            "Epoch 5/30\n",
            "50/50 [==============================] - 9s 178ms/step - loss: 0.6802 - accuracy: 0.5860 - val_loss: 0.6659 - val_accuracy: 0.5660\n",
            "Epoch 6/30\n",
            "50/50 [==============================] - 9s 190ms/step - loss: 0.6716 - accuracy: 0.6290 - val_loss: 0.6095 - val_accuracy: 0.6570\n",
            "Epoch 7/30\n",
            "50/50 [==============================] - 10s 202ms/step - loss: 0.5927 - accuracy: 0.6830 - val_loss: 0.7010 - val_accuracy: 0.6230\n",
            "Epoch 8/30\n",
            "50/50 [==============================] - 8s 170ms/step - loss: 0.6015 - accuracy: 0.6920 - val_loss: 0.5958 - val_accuracy: 0.6800\n",
            "Epoch 9/30\n",
            "50/50 [==============================] - 10s 196ms/step - loss: 0.5903 - accuracy: 0.6860 - val_loss: 0.5921 - val_accuracy: 0.6640\n",
            "Epoch 10/30\n",
            "50/50 [==============================] - 10s 194ms/step - loss: 0.6017 - accuracy: 0.6910 - val_loss: 0.6418 - val_accuracy: 0.5980\n",
            "Epoch 11/30\n",
            "50/50 [==============================] - 10s 196ms/step - loss: 0.5602 - accuracy: 0.7060 - val_loss: 0.6071 - val_accuracy: 0.6510\n",
            "Epoch 12/30\n",
            "50/50 [==============================] - 9s 185ms/step - loss: 0.5464 - accuracy: 0.7310 - val_loss: 0.6017 - val_accuracy: 0.6730\n",
            "Epoch 13/30\n",
            "50/50 [==============================] - 11s 217ms/step - loss: 0.5452 - accuracy: 0.7290 - val_loss: 0.6035 - val_accuracy: 0.6720\n",
            "Epoch 14/30\n",
            "50/50 [==============================] - 9s 191ms/step - loss: 0.5257 - accuracy: 0.7370 - val_loss: 0.5960 - val_accuracy: 0.6830\n",
            "Epoch 15/30\n",
            "50/50 [==============================] - 8s 168ms/step - loss: 0.5137 - accuracy: 0.7490 - val_loss: 0.5624 - val_accuracy: 0.6950\n",
            "Epoch 16/30\n",
            "50/50 [==============================] - 9s 189ms/step - loss: 0.4951 - accuracy: 0.7780 - val_loss: 0.6079 - val_accuracy: 0.6870\n",
            "Epoch 17/30\n",
            "50/50 [==============================] - 9s 188ms/step - loss: 0.4916 - accuracy: 0.7590 - val_loss: 0.5416 - val_accuracy: 0.7170\n",
            "Epoch 18/30\n",
            "50/50 [==============================] - 10s 193ms/step - loss: 0.4515 - accuracy: 0.7930 - val_loss: 0.5927 - val_accuracy: 0.7180\n",
            "Epoch 19/30\n",
            "50/50 [==============================] - 9s 179ms/step - loss: 0.4787 - accuracy: 0.7830 - val_loss: 0.5920 - val_accuracy: 0.7230\n",
            "Epoch 20/30\n",
            "50/50 [==============================] - 9s 189ms/step - loss: 0.4147 - accuracy: 0.8180 - val_loss: 0.6721 - val_accuracy: 0.7020\n",
            "Epoch 21/30\n",
            "50/50 [==============================] - 9s 189ms/step - loss: 0.4403 - accuracy: 0.8000 - val_loss: 0.5565 - val_accuracy: 0.7310\n",
            "Epoch 22/30\n",
            "50/50 [==============================] - 8s 169ms/step - loss: 0.4236 - accuracy: 0.8070 - val_loss: 0.5485 - val_accuracy: 0.7380\n",
            "Epoch 23/30\n",
            "50/50 [==============================] - 9s 187ms/step - loss: 0.4105 - accuracy: 0.8030 - val_loss: 0.5964 - val_accuracy: 0.7360\n",
            "Epoch 24/30\n",
            "50/50 [==============================] - 9s 187ms/step - loss: 0.3589 - accuracy: 0.8290 - val_loss: 0.5886 - val_accuracy: 0.7240\n",
            "Epoch 25/30\n",
            "50/50 [==============================] - 8s 168ms/step - loss: 0.3664 - accuracy: 0.8410 - val_loss: 0.5548 - val_accuracy: 0.7490\n",
            "Epoch 26/30\n",
            "50/50 [==============================] - 9s 189ms/step - loss: 0.3189 - accuracy: 0.8620 - val_loss: 0.5393 - val_accuracy: 0.7600\n",
            "Epoch 27/30\n",
            "50/50 [==============================] - 9s 189ms/step - loss: 0.3374 - accuracy: 0.8400 - val_loss: 0.6743 - val_accuracy: 0.6980\n",
            "Epoch 28/30\n",
            "50/50 [==============================] - 8s 165ms/step - loss: 0.3184 - accuracy: 0.8590 - val_loss: 0.6094 - val_accuracy: 0.7440\n",
            "Epoch 29/30\n",
            "50/50 [==============================] - 10s 191ms/step - loss: 0.2888 - accuracy: 0.8670 - val_loss: 0.5937 - val_accuracy: 0.7560\n",
            "Epoch 30/30\n",
            "50/50 [==============================] - 11s 220ms/step - loss: 0.2661 - accuracy: 0.8850 - val_loss: 0.6013 - val_accuracy: 0.7550\n"
          ]
        }
      ]
    },
    {
      "cell_type": "code",
      "source": [
        "import matplotlib.pyplot as plt\n",
        "\n",
        "\n",
        "acc = history.history[\"accuracy\"]\n",
        "val_acc = history.history[\"val_accuracy\"]\n",
        "\n",
        "loss = history.history[\"loss\"]\n",
        "val_loss = history.history[\"val_loss\"]\n",
        "\n",
        "epochs = range(1, len(acc) + 1)\n",
        "\n",
        "plt.plot(epochs, acc, \"bo\", label=\"Training acc\")\n",
        "plt.plot(epochs, val_acc, \"b\", label=\"Validation acc\")\n",
        "\n",
        "plt.title(\"Training and validation accuracy\")\n",
        "plt.legend()\n",
        "\n",
        "plt.figure()\n",
        "\n",
        "plt.plot(epochs, loss, \"bo\", label=\"Training loss\")\n",
        "plt.plot(epochs, val_loss, \"b\", label=\"Validation loss\")\n",
        "plt.title(\"Training and validation loss\")\n",
        "\n",
        "plt.legend()\n",
        "plt.show()"
      ],
      "metadata": {
        "id": "WPgUWGUtNmIu",
        "colab": {
          "base_uri": "https://localhost:8080/",
          "height": 545
        },
        "outputId": "365ca1e5-a4bd-4ff2-f24f-9c527ed71252"
      },
      "execution_count": 13,
      "outputs": [
        {
          "output_type": "display_data",
          "data": {
            "text/plain": [
              "<Figure size 432x288 with 1 Axes>"
            ],
            "image/png": "[encoded data removed]"
          },
          "metadata": {
            "needs_background": "light"
          }
        },
        {
          "output_type": "display_data",
          "data": {
            "text/plain": [
              "<Figure size 432x288 with 1 Axes>"
            ],
            "image/png": "[encoded data removed]"
          },
          "metadata": {
            "needs_background": "light"
          }
        }
      ]
    },
    {
      "cell_type": "markdown",
      "source": [
        "# Расширение данных"
      ],
      "metadata": {
        "id": "xUV1LB4bQLaK"
      }
    },
    {
      "cell_type": "code",
      "source": [
        "from keras_preprocessing.image import ImageDataGenerator\n",
        "\n",
        "\n",
        "datagen = ImageDataGenerator(\n",
        "    rotation_range=40,\n",
        "    width_shift_range=0.2,\n",
        "    height_shift_range=0.2,\n",
        "    shear_range=0.2,\n",
        "    zoom_range=0.2,\n",
        "    horizontal_flip=True,\n",
        "    fill_mode=\"nearest\"\n",
        ")"
      ],
      "metadata": {
        "id": "zcD00mbAQQCA"
      },
      "execution_count": 15,
      "outputs": []
    },
    {
      "cell_type": "code",
      "source": [
        "import os\n",
        "\n",
        "import matplotlib.pyplot as plt\n",
        "\n",
        "from more_itertools import take\n",
        "from keras.preprocessing import image\n",
        "from keras_preprocessing.image import ImageDataGenerator\n",
        "\n",
        "\n",
        "datagen = ImageDataGenerator(\n",
        "    rotation_range=40,\n",
        "    width_shift_range=0.2,\n",
        "    height_shift_range=0.2,\n",
        "    shear_range=0.2,\n",
        "    zoom_range=0.2,\n",
        "    horizontal_flip=True,\n",
        "    fill_mode=\"nearest\"\n",
        ")\n",
        "\n",
        "train_cats_dir = \"prepared_train_data/train/cats\"\n",
        "\n",
        "fnames = [\n",
        "    os.path.join(train_cats_dir, fname)\n",
        "    for fname in os.listdir(train_cats_dir)\n",
        "]\n",
        "\n",
        "img_path = fnames[92]\n",
        "img = image.load_img(img_path, target_size=(150, 150))\n",
        "\n",
        "x = image.img_to_array(img)\n",
        "x = x.reshape((1,) + x.shape)\n",
        "\n",
        "for batch in take(4, datagen.flow(x, batch_size=1)):\n",
        "    plt.figure()\n",
        "    imgplot = plt.imshow(image.array_to_img(batch[0]))\n",
        "\n",
        "plt.show()"
      ],
      "metadata": {
        "id": "IDUgzK-mQX2j"
      },
      "execution_count": null,
      "outputs": []
    },
    {
      "cell_type": "code",
      "source": [
        "from keras import layers\n",
        "from keras import models\n",
        "\n",
        "\n",
        "model = models.Sequential([\n",
        "    layers.Conv2D(32, (3, 3), activation=\"relu\", input_shape=(150, 150, 3)),\n",
        "    layers.MaxPooling2D((2, 2)),\n",
        "\n",
        "    layers.Conv2D(64, (3, 3), activation=\"relu\"),\n",
        "    layers.MaxPooling2D((2, 2)),\n",
        "\n",
        "    layers.Conv2D(128, (3, 3), activation=\"relu\"),\n",
        "    layers.MaxPooling2D((2, 2)),\n",
        "\n",
        "    layers.Conv2D(128, (3, 3), activation=\"relu\"),\n",
        "    layers.MaxPooling2D((2, 2)),\n",
        "\n",
        "    layers.Flatten(),\n",
        "    layers.Dropout(0.5),\n",
        "\n",
        "    layers.Dense(512, activation=\"relu\"),\n",
        "    layers.Dense(1, activation=\"sigmoid\")\n",
        "])\n",
        "\n",
        "model.compile(\n",
        "    loss=\"binary_crossentropy\",\n",
        "    optimizer=\"rmsprop\",\n",
        "    metrics=[\"acc\"]\n",
        ")"
      ],
      "metadata": {
        "id": "jaabOAlcQ1lK"
      },
      "execution_count": null,
      "outputs": []
    },
    {
      "cell_type": "code",
      "source": [
        "train_datagen = ImageDataGenerator(\n",
        "    rescale=1./255,\n",
        "    rotation_range=40,\n",
        "    width_shift_range=0.2,\n",
        "    height_shift_range=0.2,\n",
        "    shear_range=0.2,\n",
        "    zoom_range=0.2,\n",
        "    horizontal_flip=True\n",
        ")\n",
        "\n",
        "test_datagen = ImageDataGenerator(rescale=1./255)\n",
        "\n",
        "train_generator = train_datagen.flow_from_directory(\n",
        "    train_dir,\n",
        "    target_size=(150, 150),\n",
        "    batch_size=20,\n",
        "    class_mode=\"binary\"\n",
        ")\n",
        "\n",
        "validation_generator = test_datagen.flow_from_directory(\n",
        "    validation_dir,\n",
        "    target_size=(150, 150),\n",
        "    batch_size=20,\n",
        "    class_mode=\"binary\"\n",
        ")\n",
        "\n",
        "history = model.fit_generator(\n",
        "    train_generator,\n",
        "    steps_per_epoch=100,\n",
        "    epochs=100,\n",
        "    validation_data=validation_generator,\n",
        "    validation_steps=50\n",
        ")"
      ],
      "metadata": {
        "id": "s9b7FRMXQ2VV"
      },
      "execution_count": null,
      "outputs": []
    },
    {
      "cell_type": "code",
      "source": [
        "import matplotlib.pyplot as plt\n",
        "\n",
        "\n",
        "acc = history.history[\"accuracy\"]\n",
        "val_acc = history.history[\"val_accuracy\"]\n",
        "\n",
        "loss = history.history[\"loss\"]\n",
        "val_loss = history.history[\"val_loss\"]\n",
        "\n",
        "epochs = range(1, len(acc) + 1)\n",
        "\n",
        "plt.plot(epochs, acc, \"bo\", label=\"Training acc\")\n",
        "plt.plot(epochs, val_acc, \"b\", label=\"Validation acc\")\n",
        "\n",
        "plt.title(\"Training and validation accuracy\")\n",
        "plt.legend()\n",
        "\n",
        "plt.figure()\n",
        "\n",
        "plt.plot(epochs, loss, \"bo\", label=\"Training loss\")\n",
        "plt.plot(epochs, val_loss, \"b\", label=\"Validation loss\")\n",
        "plt.title(\"Training and validation loss\")\n",
        "\n",
        "plt.legend()\n",
        "plt.show()"
      ],
      "metadata": {
        "id": "bjYbUVHHRoAQ"
      },
      "execution_count": null,
      "outputs": []
    }
  ]
}