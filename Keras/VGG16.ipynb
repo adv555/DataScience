{
  "nbformat": 4,
  "nbformat_minor": 0,
  "metadata": {
    "colab": {
      "provenance": [],
      "mount_file_id": "13Y-J592rGZDb4aJ6WPdEjGUu5pOmTp8d",
      "authorship_tag": "ABX9TyMZlxiGoYiG6huZMCGUYxdg",
      "include_colab_link": true
    },
    "kernelspec": {
      "name": "python3",
      "display_name": "Python 3"
    },
    "language_info": {
      "name": "python"
    },
    "accelerator": "GPU",
    "gpuClass": "standard"
  },
  "cells": [
    {
      "cell_type": "markdown",
      "metadata": {
        "id": "view-in-github",
        "colab_type": "text"
      },
      "source": [
        "<a href=\"https://colab.research.google.com/github/adv555/DataScience/blob/main/Keras/VGG16.ipynb\" target=\"_parent\"><img src=\"https://colab.research.google.com/assets/colab-badge.svg\" alt=\"Open In Colab\"/></a>"
      ]
    },
    {
      "cell_type": "code",
      "execution_count": 1,
      "metadata": {
        "colab": {
          "base_uri": "https://localhost:8080/"
        },
        "id": "REbD0DOJwF9C",
        "outputId": "2806e79a-3563-4e62-f36f-4e5e654cf48d"
      },
      "outputs": [
        {
          "output_type": "stream",
          "name": "stdout",
          "text": [
            "Downloading data from https://storage.googleapis.com/tensorflow/keras-applications/vgg16/vgg16_weights_tf_dim_ordering_tf_kernels_notop.h5\n",
            "58889256/58889256 [==============================] - 2s 0us/step\n"
          ]
        }
      ],
      "source": [
        "import tensorflow as tf\n",
        "\n",
        "from keras.applications.vgg16 import VGG16\n",
        "from keras import models\n",
        "from keras import layers\n",
        "from keras.preprocessing.image import ImageDataGenerator\n",
        "from keras import optimizers\n",
        "\n",
        "\n",
        "conv_base = VGG16(weights=\"imagenet\", include_top=False, input_shape=(150, 150, 3))\n",
        "conv_base.trainable = False\n",
        "\n",
        "model = models.Sequential([\n",
        "   conv_base,\n",
        "   layers.Flatten(),\n",
        "   layers.Dense(256, activation=\"relu\"),\n",
        "   layers.Dense(1, activation=\"sigmoid\"),\n",
        "])\n",
        "\n",
        "model.compile(\n",
        "    loss=\"binary_crossentropy\",\n",
        "    optimizer=tf.keras.optimizers.RMSprop(learning_rate=2e-5),\n",
        "    metrics=[\"acc\"]\n",
        ")"
      ]
    },
    {
      "cell_type": "code",
      "source": [
        "model.summary()\n"
      ],
      "metadata": {
        "colab": {
          "base_uri": "https://localhost:8080/"
        },
        "id": "QOmp6124wdW4",
        "outputId": "27e5a8db-5530-437b-ceb8-8ab780ed2ce9"
      },
      "execution_count": 2,
      "outputs": [
        {
          "output_type": "stream",
          "name": "stdout",
          "text": [
            "Model: \"sequential\"\n",
            "_________________________________________________________________\n",
            " Layer (type)                Output Shape              Param #   \n",
            "=================================================================\n",
            " vgg16 (Functional)          (None, 4, 4, 512)         14714688  \n",
            "                                                                 \n",
            " flatten (Flatten)           (None, 8192)              0         \n",
            "                                                                 \n",
            " dense (Dense)               (None, 256)               2097408   \n",
            "                                                                 \n",
            " dense_1 (Dense)             (None, 1)                 257       \n",
            "                                                                 \n",
            "=================================================================\n",
            "Total params: 16,812,353\n",
            "Trainable params: 2,097,665\n",
            "Non-trainable params: 14,714,688\n",
            "_________________________________________________________________\n"
          ]
        }
      ]
    },
    {
      "cell_type": "code",
      "source": [
        "train_dir = \"/content/drive/MyDrive/Data Science/DogsCatsKaggle/prepared_train_data/train\"\n",
        "validation_dir = \"/content/drive/MyDrive/Data Science/DogsCatsKaggle/prepared_train_data/validation\"\n",
        "test_dir = \"/content/drive/MyDrive/Data Science/DogsCatsKaggle/prepared_train_data/test\""
      ],
      "metadata": {
        "id": "MPt5W11ExQda"
      },
      "execution_count": 6,
      "outputs": []
    },
    {
      "cell_type": "code",
      "source": [
        "train_datagen = ImageDataGenerator(\n",
        "    rescale=1./255,\n",
        "    rotation_range=40,\n",
        "    width_shift_range=0.2,\n",
        "    height_shift_range=0.2,\n",
        "    shear_range=0.2,\n",
        "    zoom_range=0.2,\n",
        "    horizontal_flip=True,\n",
        "    fill_mode=\"nearest\"\n",
        ")\n",
        "test_datagen = ImageDataGenerator(rescale=1./255)\n",
        "\n",
        "train_generator = train_datagen.flow_from_directory(\n",
        "    train_dir, \n",
        "    target_size=(150, 150),\n",
        "    batch_size=20,\n",
        "    class_mode=\"binary\"\n",
        ")\n",
        "\n",
        "validation_generator = test_datagen.flow_from_directory(\n",
        "    validation_dir,\n",
        "    target_size=(150, 150),\n",
        "    batch_size=20,\n",
        "    class_mode=\"binary\"\n",
        ")"
      ],
      "metadata": {
        "colab": {
          "base_uri": "https://localhost:8080/"
        },
        "id": "jc1RzPx3wewe",
        "outputId": "5c82f5cc-c683-4879-cc38-1a7e8c2419fa"
      },
      "execution_count": 7,
      "outputs": [
        {
          "output_type": "stream",
          "name": "stdout",
          "text": [
            "Found 2000 images belonging to 2 classes.\n",
            "Found 1000 images belonging to 2 classes.\n"
          ]
        }
      ]
    },
    {
      "cell_type": "code",
      "source": [
        "history = model.fit(\n",
        "    train_generator,\n",
        "    steps_per_epoch=100,\n",
        "    epochs=100,\n",
        "    validation_data=validation_generator,\n",
        "    validation_steps=50\n",
        ")"
      ],
      "metadata": {
        "colab": {
          "base_uri": "https://localhost:8080/"
        },
        "id": "c4LHL1HTw-ZL",
        "outputId": "273ca7db-a274-4b73-9a48-d70cb7ad2d38"
      },
      "execution_count": 8,
      "outputs": [
        {
          "output_type": "stream",
          "name": "stdout",
          "text": [
            "Epoch 1/100\n",
            "100/100 [==============================] - 800s 8s/step - loss: 0.5869 - acc: 0.6885 - val_loss: 0.4458 - val_acc: 0.8310\n",
            "Epoch 2/100\n",
            "100/100 [==============================] - 26s 261ms/step - loss: 0.4776 - acc: 0.7915 - val_loss: 0.3698 - val_acc: 0.8550\n",
            "Epoch 3/100\n",
            "100/100 [==============================] - 27s 268ms/step - loss: 0.4266 - acc: 0.8165 - val_loss: 0.3323 - val_acc: 0.8580\n",
            "Epoch 4/100\n",
            "100/100 [==============================] - 28s 277ms/step - loss: 0.3885 - acc: 0.8390 - val_loss: 0.3176 - val_acc: 0.8780\n",
            "Epoch 5/100\n",
            "100/100 [==============================] - 26s 260ms/step - loss: 0.3855 - acc: 0.8265 - val_loss: 0.2975 - val_acc: 0.8620\n",
            "Epoch 6/100\n",
            "100/100 [==============================] - 26s 263ms/step - loss: 0.3793 - acc: 0.8345 - val_loss: 0.2854 - val_acc: 0.8820\n",
            "Epoch 7/100\n",
            "100/100 [==============================] - 26s 259ms/step - loss: 0.3642 - acc: 0.8345 - val_loss: 0.2788 - val_acc: 0.8810\n",
            "Epoch 8/100\n",
            "100/100 [==============================] - 32s 320ms/step - loss: 0.3424 - acc: 0.8510 - val_loss: 0.2724 - val_acc: 0.8860\n",
            "Epoch 9/100\n",
            "100/100 [==============================] - 28s 279ms/step - loss: 0.3534 - acc: 0.8510 - val_loss: 0.2665 - val_acc: 0.8810\n",
            "Epoch 10/100\n",
            "100/100 [==============================] - 29s 289ms/step - loss: 0.3441 - acc: 0.8480 - val_loss: 0.2624 - val_acc: 0.8860\n",
            "Epoch 11/100\n",
            "100/100 [==============================] - 28s 280ms/step - loss: 0.3172 - acc: 0.8685 - val_loss: 0.2711 - val_acc: 0.8920\n",
            "Epoch 12/100\n",
            "100/100 [==============================] - 26s 263ms/step - loss: 0.3214 - acc: 0.8615 - val_loss: 0.2577 - val_acc: 0.8920\n",
            "Epoch 13/100\n",
            "100/100 [==============================] - 27s 273ms/step - loss: 0.3273 - acc: 0.8580 - val_loss: 0.2543 - val_acc: 0.8890\n",
            "Epoch 14/100\n",
            "100/100 [==============================] - 26s 264ms/step - loss: 0.3182 - acc: 0.8665 - val_loss: 0.2632 - val_acc: 0.8860\n",
            "Epoch 15/100\n",
            "100/100 [==============================] - 26s 261ms/step - loss: 0.3177 - acc: 0.8660 - val_loss: 0.2581 - val_acc: 0.8920\n",
            "Epoch 16/100\n",
            "100/100 [==============================] - 26s 258ms/step - loss: 0.3141 - acc: 0.8615 - val_loss: 0.2504 - val_acc: 0.8970\n",
            "Epoch 17/100\n",
            "100/100 [==============================] - 32s 322ms/step - loss: 0.3041 - acc: 0.8695 - val_loss: 0.2536 - val_acc: 0.8940\n",
            "Epoch 18/100\n",
            "100/100 [==============================] - 28s 280ms/step - loss: 0.3052 - acc: 0.8660 - val_loss: 0.2577 - val_acc: 0.8980\n",
            "Epoch 19/100\n",
            "100/100 [==============================] - 26s 261ms/step - loss: 0.2883 - acc: 0.8745 - val_loss: 0.2531 - val_acc: 0.8910\n",
            "Epoch 20/100\n",
            "100/100 [==============================] - 26s 260ms/step - loss: 0.2993 - acc: 0.8675 - val_loss: 0.2442 - val_acc: 0.8990\n",
            "Epoch 21/100\n",
            "100/100 [==============================] - 31s 306ms/step - loss: 0.2955 - acc: 0.8710 - val_loss: 0.2504 - val_acc: 0.9030\n",
            "Epoch 22/100\n",
            "100/100 [==============================] - 30s 296ms/step - loss: 0.2903 - acc: 0.8735 - val_loss: 0.2460 - val_acc: 0.9040\n",
            "Epoch 23/100\n",
            "100/100 [==============================] - 29s 286ms/step - loss: 0.2957 - acc: 0.8720 - val_loss: 0.2406 - val_acc: 0.9020\n",
            "Epoch 24/100\n",
            "100/100 [==============================] - 27s 269ms/step - loss: 0.2846 - acc: 0.8805 - val_loss: 0.2402 - val_acc: 0.9050\n",
            "Epoch 25/100\n",
            "100/100 [==============================] - 26s 264ms/step - loss: 0.2910 - acc: 0.8765 - val_loss: 0.2481 - val_acc: 0.8940\n",
            "Epoch 26/100\n",
            "100/100 [==============================] - 29s 286ms/step - loss: 0.2845 - acc: 0.8760 - val_loss: 0.2439 - val_acc: 0.9040\n",
            "Epoch 27/100\n",
            "100/100 [==============================] - 28s 284ms/step - loss: 0.2880 - acc: 0.8735 - val_loss: 0.2430 - val_acc: 0.8980\n",
            "Epoch 28/100\n",
            "100/100 [==============================] - 27s 271ms/step - loss: 0.2781 - acc: 0.8785 - val_loss: 0.2469 - val_acc: 0.9020\n",
            "Epoch 29/100\n",
            "100/100 [==============================] - 34s 338ms/step - loss: 0.2736 - acc: 0.8835 - val_loss: 0.2411 - val_acc: 0.9040\n",
            "Epoch 30/100\n",
            "100/100 [==============================] - 28s 276ms/step - loss: 0.2816 - acc: 0.8805 - val_loss: 0.2394 - val_acc: 0.9010\n",
            "Epoch 31/100\n",
            "100/100 [==============================] - 26s 262ms/step - loss: 0.2931 - acc: 0.8765 - val_loss: 0.2414 - val_acc: 0.9050\n",
            "Epoch 32/100\n",
            "100/100 [==============================] - 26s 256ms/step - loss: 0.2673 - acc: 0.8875 - val_loss: 0.2405 - val_acc: 0.9070\n",
            "Epoch 33/100\n",
            "100/100 [==============================] - 26s 258ms/step - loss: 0.2869 - acc: 0.8770 - val_loss: 0.2435 - val_acc: 0.9050\n",
            "Epoch 34/100\n",
            "100/100 [==============================] - 26s 264ms/step - loss: 0.2817 - acc: 0.8850 - val_loss: 0.2412 - val_acc: 0.9010\n",
            "Epoch 35/100\n",
            "100/100 [==============================] - 31s 307ms/step - loss: 0.2763 - acc: 0.8830 - val_loss: 0.2395 - val_acc: 0.9050\n",
            "Epoch 36/100\n",
            "100/100 [==============================] - 26s 258ms/step - loss: 0.2878 - acc: 0.8750 - val_loss: 0.2440 - val_acc: 0.9070\n",
            "Epoch 37/100\n",
            "100/100 [==============================] - 26s 256ms/step - loss: 0.2821 - acc: 0.8835 - val_loss: 0.2417 - val_acc: 0.8990\n",
            "Epoch 38/100\n",
            "100/100 [==============================] - 30s 302ms/step - loss: 0.2732 - acc: 0.8865 - val_loss: 0.2485 - val_acc: 0.9030\n",
            "Epoch 39/100\n",
            "100/100 [==============================] - 26s 259ms/step - loss: 0.2816 - acc: 0.8785 - val_loss: 0.2471 - val_acc: 0.9060\n",
            "Epoch 40/100\n",
            "100/100 [==============================] - 26s 259ms/step - loss: 0.2711 - acc: 0.8830 - val_loss: 0.2410 - val_acc: 0.9070\n",
            "Epoch 41/100\n",
            "100/100 [==============================] - 31s 310ms/step - loss: 0.2724 - acc: 0.8775 - val_loss: 0.2399 - val_acc: 0.9050\n",
            "Epoch 42/100\n",
            "100/100 [==============================] - 26s 257ms/step - loss: 0.2804 - acc: 0.8765 - val_loss: 0.2406 - val_acc: 0.9050\n",
            "Epoch 43/100\n",
            "100/100 [==============================] - 26s 258ms/step - loss: 0.2614 - acc: 0.8920 - val_loss: 0.2451 - val_acc: 0.8970\n",
            "Epoch 44/100\n",
            "100/100 [==============================] - 25s 255ms/step - loss: 0.2650 - acc: 0.8820 - val_loss: 0.2422 - val_acc: 0.9040\n",
            "Epoch 45/100\n",
            "100/100 [==============================] - 26s 260ms/step - loss: 0.2604 - acc: 0.8900 - val_loss: 0.2421 - val_acc: 0.9010\n",
            "Epoch 46/100\n",
            "100/100 [==============================] - 26s 260ms/step - loss: 0.2599 - acc: 0.8860 - val_loss: 0.2445 - val_acc: 0.9070\n",
            "Epoch 47/100\n",
            "100/100 [==============================] - 26s 258ms/step - loss: 0.2663 - acc: 0.8875 - val_loss: 0.2543 - val_acc: 0.8990\n",
            "Epoch 48/100\n",
            "100/100 [==============================] - 26s 261ms/step - loss: 0.2775 - acc: 0.8790 - val_loss: 0.2484 - val_acc: 0.8970\n",
            "Epoch 49/100\n",
            "100/100 [==============================] - 31s 309ms/step - loss: 0.2733 - acc: 0.8875 - val_loss: 0.2391 - val_acc: 0.9020\n",
            "Epoch 50/100\n",
            "100/100 [==============================] - 26s 256ms/step - loss: 0.2644 - acc: 0.8885 - val_loss: 0.2406 - val_acc: 0.9060\n",
            "Epoch 51/100\n",
            "100/100 [==============================] - 26s 259ms/step - loss: 0.2647 - acc: 0.8860 - val_loss: 0.2427 - val_acc: 0.8990\n",
            "Epoch 52/100\n",
            "100/100 [==============================] - 25s 255ms/step - loss: 0.2529 - acc: 0.8835 - val_loss: 0.2454 - val_acc: 0.9000\n",
            "Epoch 53/100\n",
            "100/100 [==============================] - 27s 265ms/step - loss: 0.2675 - acc: 0.8815 - val_loss: 0.2594 - val_acc: 0.8930\n",
            "Epoch 54/100\n",
            "100/100 [==============================] - 26s 258ms/step - loss: 0.2691 - acc: 0.8855 - val_loss: 0.2441 - val_acc: 0.9070\n",
            "Epoch 55/100\n",
            "100/100 [==============================] - 26s 257ms/step - loss: 0.2605 - acc: 0.8905 - val_loss: 0.2416 - val_acc: 0.9110\n",
            "Epoch 56/100\n",
            "100/100 [==============================] - 26s 260ms/step - loss: 0.2638 - acc: 0.8895 - val_loss: 0.2471 - val_acc: 0.9040\n",
            "Epoch 57/100\n",
            "100/100 [==============================] - 26s 261ms/step - loss: 0.2602 - acc: 0.8900 - val_loss: 0.2640 - val_acc: 0.8880\n",
            "Epoch 58/100\n",
            "100/100 [==============================] - 26s 257ms/step - loss: 0.2560 - acc: 0.8875 - val_loss: 0.2398 - val_acc: 0.9050\n",
            "Epoch 59/100\n",
            "100/100 [==============================] - 26s 257ms/step - loss: 0.2547 - acc: 0.8940 - val_loss: 0.2430 - val_acc: 0.9070\n",
            "Epoch 60/100\n",
            "100/100 [==============================] - 25s 252ms/step - loss: 0.2583 - acc: 0.8910 - val_loss: 0.2402 - val_acc: 0.9080\n",
            "Epoch 61/100\n",
            "100/100 [==============================] - 25s 252ms/step - loss: 0.2541 - acc: 0.8905 - val_loss: 0.2411 - val_acc: 0.9040\n",
            "Epoch 62/100\n",
            "100/100 [==============================] - 26s 257ms/step - loss: 0.2533 - acc: 0.8925 - val_loss: 0.2434 - val_acc: 0.9000\n",
            "Epoch 63/100\n",
            "100/100 [==============================] - 26s 262ms/step - loss: 0.2708 - acc: 0.8865 - val_loss: 0.2455 - val_acc: 0.9020\n",
            "Epoch 64/100\n",
            "100/100 [==============================] - 26s 257ms/step - loss: 0.2531 - acc: 0.8950 - val_loss: 0.2448 - val_acc: 0.9060\n",
            "Epoch 65/100\n",
            "100/100 [==============================] - 26s 258ms/step - loss: 0.2705 - acc: 0.8830 - val_loss: 0.2430 - val_acc: 0.9040\n",
            "Epoch 66/100\n",
            "100/100 [==============================] - 26s 257ms/step - loss: 0.2680 - acc: 0.8840 - val_loss: 0.2413 - val_acc: 0.9020\n",
            "Epoch 67/100\n",
            "100/100 [==============================] - 27s 268ms/step - loss: 0.2429 - acc: 0.9035 - val_loss: 0.2618 - val_acc: 0.8930\n",
            "Epoch 68/100\n",
            "100/100 [==============================] - 31s 308ms/step - loss: 0.2512 - acc: 0.8915 - val_loss: 0.2416 - val_acc: 0.9070\n",
            "Epoch 69/100\n",
            "100/100 [==============================] - 26s 257ms/step - loss: 0.2528 - acc: 0.8920 - val_loss: 0.2412 - val_acc: 0.9060\n",
            "Epoch 70/100\n",
            "100/100 [==============================] - 26s 256ms/step - loss: 0.2572 - acc: 0.8860 - val_loss: 0.2403 - val_acc: 0.9070\n",
            "Epoch 71/100\n",
            "100/100 [==============================] - 30s 305ms/step - loss: 0.2548 - acc: 0.8885 - val_loss: 0.2437 - val_acc: 0.9050\n",
            "Epoch 72/100\n",
            "100/100 [==============================] - 26s 260ms/step - loss: 0.2445 - acc: 0.8930 - val_loss: 0.2417 - val_acc: 0.9050\n",
            "Epoch 73/100\n",
            "100/100 [==============================] - 26s 257ms/step - loss: 0.2473 - acc: 0.8920 - val_loss: 0.2445 - val_acc: 0.9110\n",
            "Epoch 74/100\n",
            "100/100 [==============================] - 26s 257ms/step - loss: 0.2562 - acc: 0.8940 - val_loss: 0.2521 - val_acc: 0.9000\n",
            "Epoch 75/100\n",
            "100/100 [==============================] - 26s 262ms/step - loss: 0.2366 - acc: 0.9020 - val_loss: 0.2450 - val_acc: 0.9070\n",
            "Epoch 76/100\n",
            "100/100 [==============================] - 30s 302ms/step - loss: 0.2425 - acc: 0.8965 - val_loss: 0.2447 - val_acc: 0.9040\n",
            "Epoch 77/100\n",
            "100/100 [==============================] - 26s 256ms/step - loss: 0.2370 - acc: 0.8960 - val_loss: 0.2438 - val_acc: 0.9030\n",
            "Epoch 78/100\n",
            "100/100 [==============================] - 25s 254ms/step - loss: 0.2362 - acc: 0.9035 - val_loss: 0.2505 - val_acc: 0.8990\n",
            "Epoch 79/100\n",
            "100/100 [==============================] - 27s 273ms/step - loss: 0.2415 - acc: 0.9040 - val_loss: 0.2484 - val_acc: 0.9050\n",
            "Epoch 80/100\n",
            "100/100 [==============================] - 31s 307ms/step - loss: 0.2437 - acc: 0.8850 - val_loss: 0.2421 - val_acc: 0.9020\n",
            "Epoch 81/100\n",
            "100/100 [==============================] - 26s 259ms/step - loss: 0.2401 - acc: 0.8945 - val_loss: 0.2484 - val_acc: 0.9030\n",
            "Epoch 82/100\n",
            "100/100 [==============================] - 26s 259ms/step - loss: 0.2380 - acc: 0.8960 - val_loss: 0.2460 - val_acc: 0.9030\n",
            "Epoch 83/100\n",
            "100/100 [==============================] - 30s 304ms/step - loss: 0.2358 - acc: 0.9005 - val_loss: 0.2438 - val_acc: 0.9020\n",
            "Epoch 84/100\n",
            "100/100 [==============================] - 26s 264ms/step - loss: 0.2357 - acc: 0.8985 - val_loss: 0.2479 - val_acc: 0.9040\n",
            "Epoch 85/100\n",
            "100/100 [==============================] - 26s 258ms/step - loss: 0.2289 - acc: 0.9075 - val_loss: 0.2447 - val_acc: 0.9010\n",
            "Epoch 86/100\n",
            "100/100 [==============================] - 25s 254ms/step - loss: 0.2323 - acc: 0.8980 - val_loss: 0.2454 - val_acc: 0.9030\n",
            "Epoch 87/100\n",
            "100/100 [==============================] - 26s 259ms/step - loss: 0.2395 - acc: 0.8930 - val_loss: 0.2475 - val_acc: 0.9000\n",
            "Epoch 88/100\n",
            "100/100 [==============================] - 25s 251ms/step - loss: 0.2501 - acc: 0.8950 - val_loss: 0.2531 - val_acc: 0.8990\n",
            "Epoch 89/100\n",
            "100/100 [==============================] - 26s 261ms/step - loss: 0.2472 - acc: 0.8935 - val_loss: 0.2452 - val_acc: 0.9000\n",
            "Epoch 90/100\n",
            "100/100 [==============================] - 27s 268ms/step - loss: 0.2366 - acc: 0.8905 - val_loss: 0.2509 - val_acc: 0.9010\n",
            "Epoch 91/100\n",
            "100/100 [==============================] - 25s 253ms/step - loss: 0.2321 - acc: 0.9000 - val_loss: 0.2476 - val_acc: 0.9010\n",
            "Epoch 92/100\n",
            "100/100 [==============================] - 26s 259ms/step - loss: 0.2253 - acc: 0.9070 - val_loss: 0.2467 - val_acc: 0.9000\n",
            "Epoch 93/100\n",
            "100/100 [==============================] - 25s 254ms/step - loss: 0.2294 - acc: 0.9075 - val_loss: 0.2556 - val_acc: 0.9010\n",
            "Epoch 94/100\n",
            "100/100 [==============================] - 26s 260ms/step - loss: 0.2376 - acc: 0.8995 - val_loss: 0.2512 - val_acc: 0.8980\n",
            "Epoch 95/100\n",
            "100/100 [==============================] - 26s 255ms/step - loss: 0.2372 - acc: 0.8905 - val_loss: 0.2525 - val_acc: 0.9050\n",
            "Epoch 96/100\n",
            "100/100 [==============================] - 26s 257ms/step - loss: 0.2228 - acc: 0.9045 - val_loss: 0.2794 - val_acc: 0.8840\n",
            "Epoch 97/100\n",
            "100/100 [==============================] - 26s 261ms/step - loss: 0.2258 - acc: 0.9015 - val_loss: 0.2456 - val_acc: 0.9030\n",
            "Epoch 98/100\n",
            "100/100 [==============================] - 26s 259ms/step - loss: 0.2350 - acc: 0.8930 - val_loss: 0.2505 - val_acc: 0.8980\n",
            "Epoch 99/100\n",
            "100/100 [==============================] - 26s 259ms/step - loss: 0.2307 - acc: 0.9050 - val_loss: 0.2521 - val_acc: 0.9030\n",
            "Epoch 100/100\n",
            "100/100 [==============================] - 26s 261ms/step - loss: 0.2398 - acc: 0.8890 - val_loss: 0.2489 - val_acc: 0.9010\n"
          ]
        }
      ]
    },
    {
      "cell_type": "code",
      "source": [
        "import matplotlib.pyplot as plt\n",
        "\n",
        "acc = history.history[\"acc\"]\n",
        "val_acc = history.history[\"val_acc\"]\n",
        "\n",
        "loss = history.history[\"loss\"]\n",
        "val_loss = history.history[\"val_loss\"]\n",
        "\n",
        "epochs = range(1, len(acc) + 1)\n",
        "\n",
        "plt.figure(figsize=(20, 7), dpi=80)\n",
        "plt.grid(True)\n",
        "\n",
        "plt.plot(epochs, acc, \"bo\", label=\"Training acc\")\n",
        "plt.plot(epochs, val_acc, \"b\", label=\"Validation acc\")\n",
        "\n",
        "plt.title(\"Training and validation accuracy\")\n",
        "plt.legend()\n",
        "\n",
        "plt.figure(figsize=(20, 7), dpi=80)\n",
        "plt.grid(True)\n",
        "\n",
        "plt.plot(epochs, loss, \"bo\", label=\"Training loss\")\n",
        "plt.plot(epochs, val_loss, \"b\", label=\"Validation loss\") \n",
        "plt.title(\"Training and validation loss\")\n",
        "\n",
        "plt.legend()\n",
        "plt.show()"
      ],
      "metadata": {
        "colab": {
          "base_uri": "https://localhost:8080/",
          "height": 668
        },
        "id": "pHLf503Pxooh",
        "outputId": "1df82812-b13b-426a-a1b5-3db59708762d"
      },
      "execution_count": 9,
      "outputs": [
        {
          "output_type": "display_data",
          "data": {
            "text/plain": [
              "<Figure size 1600x560 with 1 Axes>"
            ],
            "image/png": "[encoded data removed]"
          },
          "metadata": {
            "needs_background": "light"
          }
        },
        {
          "output_type": "display_data",
          "data": {
            "text/plain": [
              "<Figure size 1600x560 with 1 Axes>"
            ],
            "image/png": "[encoded data removed]"
          },
          "metadata": {
            "needs_background": "light"
          }
        }
      ]
    },
    {
      "cell_type": "code",
      "source": [
        "model.save(\"/content/drive/MyDrive/Data Science/DogsCatsKaggle/prepared_train_data/models/vgg16_basesd_model.hdf5\")"
      ],
      "metadata": {
        "id": "5RLa52agx8O-"
      },
      "execution_count": 11,
      "outputs": []
    },
    {
      "cell_type": "markdown",
      "source": [
        "# Дообучение"
      ],
      "metadata": {
        "id": "nsZUPx89yDlK"
      }
    },
    {
      "cell_type": "code",
      "source": [
        "conv_base.summary()"
      ],
      "metadata": {
        "colab": {
          "base_uri": "https://localhost:8080/"
        },
        "id": "ZYpS1P1Rx9EV",
        "outputId": "55451618-2ee5-4380-c0dd-4ffb8afb9987"
      },
      "execution_count": 12,
      "outputs": [
        {
          "output_type": "stream",
          "name": "stdout",
          "text": [
            "Model: \"vgg16\"\n",
            "_________________________________________________________________\n",
            " Layer (type)                Output Shape              Param #   \n",
            "=================================================================\n",
            " input_1 (InputLayer)        [(None, 150, 150, 3)]     0         \n",
            "                                                                 \n",
            " block1_conv1 (Conv2D)       (None, 150, 150, 64)      1792      \n",
            "                                                                 \n",
            " block1_conv2 (Conv2D)       (None, 150, 150, 64)      36928     \n",
            "                                                                 \n",
            " block1_pool (MaxPooling2D)  (None, 75, 75, 64)        0         \n",
            "                                                                 \n",
            " block2_conv1 (Conv2D)       (None, 75, 75, 128)       73856     \n",
            "                                                                 \n",
            " block2_conv2 (Conv2D)       (None, 75, 75, 128)       147584    \n",
            "                                                                 \n",
            " block2_pool (MaxPooling2D)  (None, 37, 37, 128)       0         \n",
            "                                                                 \n",
            " block3_conv1 (Conv2D)       (None, 37, 37, 256)       295168    \n",
            "                                                                 \n",
            " block3_conv2 (Conv2D)       (None, 37, 37, 256)       590080    \n",
            "                                                                 \n",
            " block3_conv3 (Conv2D)       (None, 37, 37, 256)       590080    \n",
            "                                                                 \n",
            " block3_pool (MaxPooling2D)  (None, 18, 18, 256)       0         \n",
            "                                                                 \n",
            " block4_conv1 (Conv2D)       (None, 18, 18, 512)       1180160   \n",
            "                                                                 \n",
            " block4_conv2 (Conv2D)       (None, 18, 18, 512)       2359808   \n",
            "                                                                 \n",
            " block4_conv3 (Conv2D)       (None, 18, 18, 512)       2359808   \n",
            "                                                                 \n",
            " block4_pool (MaxPooling2D)  (None, 9, 9, 512)         0         \n",
            "                                                                 \n",
            " block5_conv1 (Conv2D)       (None, 9, 9, 512)         2359808   \n",
            "                                                                 \n",
            " block5_conv2 (Conv2D)       (None, 9, 9, 512)         2359808   \n",
            "                                                                 \n",
            " block5_conv3 (Conv2D)       (None, 9, 9, 512)         2359808   \n",
            "                                                                 \n",
            " block5_pool (MaxPooling2D)  (None, 4, 4, 512)         0         \n",
            "                                                                 \n",
            "=================================================================\n",
            "Total params: 14,714,688\n",
            "Trainable params: 0\n",
            "Non-trainable params: 14,714,688\n",
            "_________________________________________________________________\n"
          ]
        }
      ]
    },
    {
      "cell_type": "code",
      "source": [
        "# conv_base.trainable = True\n",
        "# set_trainable = False\n",
        "# for layer in conv_base.layers:\n",
        "#     if layer.name == \"block5_conv1\":\n",
        "#         set_trainable = True\n",
        "#     if set_trainable:\n",
        "#         layer.trainable = True\n",
        "#     else:\n",
        "#         layer.trainable = False"
      ],
      "metadata": {
        "id": "TBjS3j3wyaec"
      },
      "execution_count": null,
      "outputs": []
    },
    {
      "cell_type": "markdown",
      "source": [
        "### Дообучим только несколько верхних слоев сверточной основы"
      ],
      "metadata": {
        "id": "dvHCewYS20gj"
      }
    },
    {
      "cell_type": "code",
      "source": [
        "conv_base = VGG16(weights=\"imagenet\", include_top=False, input_shape=(150, 150, 3))\n",
        "\n",
        "trainable_layers = [\n",
        "    \"block5_conv1\", \"block5_conv2\", \"block5_conv3\", \"block5_pool\"\n",
        "    ]\n",
        "\n",
        "conv_base.trainable = True\n",
        "\n",
        "for layer in conv_base.layers:\n",
        "    if layer.name not in trainable_layers:\n",
        "        set_trainable = False\n",
        "\n",
        "\n",
        "modified_model = models.Sequential([\n",
        "   conv_base,\n",
        "   layers.Flatten(),\n",
        "   layers.Dense(256, activation=\"relu\"),\n",
        "   layers.Dense(1, activation=\"sigmoid\"),\n",
        "])\n",
        "\n",
        "model.compile(\n",
        "    loss=\"binary_crossentropy\",\n",
        "    optimizer=tf.keras.optimizers.RMSprop(learning_rate=1e-5),\n",
        "    metrics=[\"acc\"]\n",
        ")\n"
      ],
      "metadata": {
        "id": "BmCcxr-YyaTy"
      },
      "execution_count": 13,
      "outputs": []
    },
    {
      "cell_type": "code",
      "source": [
        "history = model.fit(\n",
        "    train_generator,\n",
        "    steps_per_epoch=100,\n",
        "    epochs=100,\n",
        "    validation_data=validation_generator,\n",
        "    validation_steps=50\n",
        ")"
      ],
      "metadata": {
        "id": "5UJkBVcJ1o-2"
      },
      "execution_count": null,
      "outputs": []
    },
    {
      "cell_type": "code",
      "source": [
        "import matplotlib.pyplot as plt\n",
        "\n",
        "acc = history.history[\"acc\"]\n",
        "val_acc = history.history[\"val_acc\"]\n",
        "\n",
        "loss = history.history[\"loss\"]\n",
        "val_loss = history.history[\"val_loss\"]\n",
        "\n",
        "epochs = range(1, len(acc) + 1)\n",
        "\n",
        "plt.figure(figsize=(20, 7), dpi=80)\n",
        "plt.grid(True)\n",
        "\n",
        "plt.plot(epochs, acc, \"bo\", label=\"Training acc\")\n",
        "plt.plot(epochs, val_acc, \"b\", label=\"Validation acc\")\n",
        "\n",
        "plt.title(\"Training and validation accuracy\")\n",
        "plt.legend()\n",
        "\n",
        "plt.figure(figsize=(20, 7), dpi=80)\n",
        "plt.grid(True)\n",
        "\n",
        "plt.plot(epochs, loss, \"bo\", label=\"Training loss\")\n",
        "plt.plot(epochs, val_loss, \"b\", label=\"Validation loss\") \n",
        "plt.title(\"Training and validation loss\")\n",
        "\n",
        "plt.legend()\n",
        "plt.show()"
      ],
      "metadata": {
        "id": "H221o6CA2cVl"
      },
      "execution_count": null,
      "outputs": []
    },
    {
      "cell_type": "markdown",
      "source": [
        "### Вычислим результирующую точность сети на тестовых данных"
      ],
      "metadata": {
        "id": "0V1W5H_2116a"
      }
    },
    {
      "cell_type": "code",
      "source": [
        "test_dir = \"/content/drive/MyDrive/Data Science/DogsCatsKaggle/prepared_train_data/test\""
      ],
      "metadata": {
        "id": "NA_MnJr53MGO"
      },
      "execution_count": null,
      "outputs": []
    },
    {
      "cell_type": "code",
      "source": [
        "test_generator = test_datagen.flow_from_directory(\n",
        "    test_dir,\n",
        "    target_size=(150, 150),\n",
        "    batch_size=20,\n",
        "    class_mode=\"binary\"\n",
        ")\n",
        "\n",
        "test_loss, test_acc = model.evaluate_generator(test_generator, steps=50)\n",
        "print(\"test acc:\", test_acc)"
      ],
      "metadata": {
        "id": "7GdWf-Bn1wOq"
      },
      "execution_count": null,
      "outputs": []
    },
    {
      "cell_type": "code",
      "source": [
        "model.save(\"/content/drive/MyDrive/Data Science/DogsCatsKaggle/prepared_train_data/models/vgg16_basesd_model2.hdf5\")"
      ],
      "metadata": {
        "id": "lRg7f-joARjV"
      },
      "execution_count": null,
      "outputs": []
    }
  ]
}